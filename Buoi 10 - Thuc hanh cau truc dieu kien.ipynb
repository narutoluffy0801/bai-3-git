{
 "cells": [
  {
   "cell_type": "markdown",
   "id": "dcdb816e",
   "metadata": {},
   "source": [
    "# Thực hành cấu trúc điều khiển\n",
    "\n",
    "### Bài 1\n",
    "\n",
    "Cho phương trình bậc 2: ax^2 + bx + c = 0\n",
    "\n",
    "Nhập a, b, c\n",
    "\n",
    "Giải và biện luận phương trình trên"
   ]
  },
  {
   "cell_type": "code",
   "execution_count": 3,
   "id": "b5a5c325",
   "metadata": {},
   "outputs": [
    {
     "name": "stdout",
     "output_type": "stream",
     "text": [
      "Enter a: 11\n",
      "Enter b: 44\n",
      "Enter c: 12\n",
      "phuong trinh 2 nghiem -448.378293432231 -35.621706567769095\n"
     ]
    }
   ],
   "source": [
    "a = float(input(\"Enter a: \"))\n",
    "b = float(input(\"Enter b: \"))\n",
    "c = float(input(\"Enter c: \"))\n",
    "delta= b**2-4*a*c\n",
    "if delta<0:\n",
    "    print(\"phuong trinh vo nghiem\")\n",
    "elif delta==0:\n",
    "    print(\"phuong tring 1 nghiem\",-b/2*a)\n",
    "else:\n",
    "    x1=(-b-(delta**(1/2)))/2*a\n",
    "    x2=(-b+(delta**(1/2)))/2*a\n",
    "    print(\"phuong trinh 2 nghiem\",x1, x2)\n",
    "    "
   ]
  },
  {
   "cell_type": "markdown",
   "id": "6f7d329d",
   "metadata": {},
   "source": [
    "### Bài 2\n",
    "\n",
    "Hãy nhập vào một số\n",
    "\n",
    "Xác định coi đó có phải là số nguyên tố hay không"
   ]
  },
  {
   "cell_type": "code",
   "execution_count": 1,
   "id": "049c85f5",
   "metadata": {},
   "outputs": [
    {
     "name": "stdout",
     "output_type": "stream",
     "text": [
      "Nhập vào một số tự nhiên: 127\n"
     ]
    }
   ],
   "source": [
    "n = int(input(\"Nhập vào một số tự nhiên: \"))\n",
    "if n == 2:\n",
    "    print(\"Số\",n, \"là số nguyên tố\")\n",
    "elif n>2:\n",
    "    for i in range(2, n):\n",
    "        if n % i == 0:\n",
    "            print(\"Số\",n, \"không phải số nguyên tố\")\n",
    "            break\n",
    "else:\n",
    "        print(\"Số\",n, \"là số nguyên tố\")\n"
   ]
  },
  {
   "cell_type": "code",
   "execution_count": 8,
   "id": "25d2b90c",
   "metadata": {},
   "outputs": [
    {
     "name": "stdout",
     "output_type": "stream",
     "text": [
      "Nhập vào số n:127\n",
      "Đây là số nguyên tố\n"
     ]
    }
   ],
   "source": [
    "n = int(input(\"Nhập vào số n:\"))\n",
    "if (n < 2):\n",
    "    print(\"Đây không là số nguyên tố\")\n",
    "else:\n",
    "    dem = 0\n",
    "    a = 1\n",
    "    for i in range(n):\n",
    "        if n % a == 0:\n",
    "            dem+=1\n",
    "        a = a + 1\n",
    "    if (dem == 2):\n",
    "        print(\"Đây là số nguyên tố\")\n",
    "    else:\n",
    "        print(\"Đây không là số nguyên tố\")\n"
   ]
  },
  {
   "cell_type": "markdown",
   "id": "75f7717b",
   "metadata": {},
   "source": [
    "### Bài 3\n",
    "\n",
    "Hãy nhập vào số n\n",
    "\n",
    "Hãy đếm số chữ số 0 tận cùng của n giai thừa"
   ]
  },
  {
   "cell_type": "code",
   "execution_count": null,
   "id": "789e0e76",
   "metadata": {},
   "outputs": [],
   "source": []
  },
  {
   "cell_type": "markdown",
   "id": "29cd6c81",
   "metadata": {},
   "source": [
    "### Bài 4\n",
    "\n",
    "In ra tất cả các số chia hết cho 3 nhỏ hơn 100"
   ]
  },
  {
   "cell_type": "code",
   "execution_count": 7,
   "id": "0b848981",
   "metadata": {},
   "outputs": [
    {
     "name": "stdout",
     "output_type": "stream",
     "text": [
      "0 chia het cho moi so\n",
      "  0  3  6  9  12  15  18  21  24  27  30  33  36  39  42  45  48  51  54  57  60  63  66  69  72  75  78  81  84  87  90  93  96  99\n",
      " 99\n",
      "34.0\n"
     ]
    }
   ],
   "source": [
    "print (\"0 chia het cho moi so\")\n",
    "for i in range (100):\n",
    "    if i%3==0:\n",
    "        print (\" \",i, end=\"\")\n",
    "    \n",
    "print (\"\\n\",i)\n",
    "dem= ((i-0)/3)+1\n",
    "print(dem)"
   ]
  },
  {
   "cell_type": "markdown",
   "id": "04dbf99b",
   "metadata": {},
   "source": [
    "### Bài 5\n",
    "\n",
    "In ra tất cả các số lẻ nhưng không chia hết cho 3 nhỏ hơn 100"
   ]
  },
  {
   "cell_type": "code",
   "execution_count": null,
   "id": "769eb439",
   "metadata": {},
   "outputs": [],
   "source": []
  },
  {
   "cell_type": "markdown",
   "id": "26dd47fb",
   "metadata": {},
   "source": [
    "### Bài 5\n",
    "\n",
    "Tại một cửa hàng nọ có menu như sau:\n",
    "\n",
    "1. Gà rán giá 35k\n",
    "2. Hamburger giá 50k\n",
    "3. Pesi giá 10k\n",
    "\n",
    "Nhập số lượng món hàng cần mua\n",
    "\n",
    "Tính và in ra tổng giá tiền (hiển thị có dấu chấm mỗi 3 chữ số để người dùng để quan sát)\n",
    "\n",
    "Nếu giá trị đơn hàng trên 2 triệu, giảm 10% cho khách, trên 4 triệu, giảm 15%\n",
    "\n",
    "Tính và in ra tổng giá tiền được giảm (hiển thị có dấu chấm mỗi 3 chữ số để người dùng để quan sát)\n",
    "\n",
    "Tính và in ra tổng giá tiền khách cần trả (hiển thị có dấu chấm mỗi 3 chữ số để người dùng để quan sát)\n",
    "\n",
    "In ra dòng chữ \"Cảm ơn quý khách đã mua hàng\""
   ]
  },
  {
   "cell_type": "code",
   "execution_count": null,
   "id": "8509df1e",
   "metadata": {},
   "outputs": [],
   "source": [
    "garan = int(input(\"Nhập số lượng gà rán khách mua:\"))\n",
    "hamburger = int(input(\"Nhập số lượng hamburger khách mua:\"))\n",
    "pesi = int(input(\"Nhập số lượng pesi khách mua:\"))\n",
    "\n",
    "tong = garan*35000 + hamburger*50000 + pesi*10000\n",
    "\n",
    "chuoitong = str(tong)\n",
    "a = len(chuoitong) - 1\n",
    "dem = 0\n",
    "for i in range(len(chuoitong)):\n",
    "    if (dem < 2):\n",
    "        dem += 1\n",
    "    else:\n",
    "        if (a != 0):\n",
    "            chuoitong = chuoitong[:a] + \".\" + chuoitong[a:]\n",
    "            dem = 0\n",
    "    a -= 1\n",
    "\n",
    "if tong > 4000000:\n",
    "    giam = int(tong*0.15)\n",
    "    conlai = int(tong*0.85)\n",
    "elif tong > 2000000:\n",
    "    giam = int(tong*0.1)\n",
    "    conlai = int(tong*0.9)\n",
    "    \n",
    "chuoigiam = str(giam)\n",
    "\n",
    "a = len(chuoigiam) - 1\n",
    "dem = 0\n",
    "\n",
    "for i in range(len(chuoigiam)):\n",
    "    if (dem < 2):\n",
    "        dem += 1\n",
    "    else:\n",
    "        if (a != 0):\n",
    "            chuoigiam = chuoigiam[:a] + \".\" + chuoigiam[a:]\n",
    "            dem = 0\n",
    "    a -= 1\n",
    "\n",
    "chuoiconlai = str(conlai)\n",
    "    \n",
    "a = len(chuoiconlai) - 1\n",
    "dem = 0\n",
    "\n",
    "for i in range(len(chuoiconlai)):\n",
    "    if (dem < 2):\n",
    "        dem += 1\n",
    "    else:\n",
    "        if (a != 0):\n",
    "            chuoiconlai = chuoiconlai[:a] + \".\" + chuoiconlai[a:]\n",
    "            dem = 0\n",
    "    a -= 1\n",
    "\n",
    "print(\"Tổng giá tiền đơn hàng là:\",chuoitong)\n",
    "print(\"Tổng tiền được giảm là:\",chuoigiam)\n",
    "print(\"Tổng tiền phải thanh toán:\",chuoiconlai)\n",
    "print(\"Cảm ơn quý khách đã mua\")\n"
   ]
  },
  {
   "cell_type": "markdown",
   "id": "ab10a1ce",
   "metadata": {},
   "source": [
    "### Bài 6\n",
    "\n",
    "Nhập vào chiều cao (cm) và cân nặng (kg), tính số BMI và xét rồi xin kết quả theo dữ liệu sau:\n",
    "\n",
    "- BMI < 16: Gầy cấp độ III\n",
    "- 16 <= BMI < 17:  Gầy cấp độ II\n",
    "- 17<= BMI < 18.5: Gầy cấp độ I\n",
    "- 18.5 <= BMI < 25: Bình thường\n",
    "- 25 <= BMI < 30: Thừa cân\n",
    "- 30 <= BMI < 35 : Béo phì cấp độ I\n",
    "- 35 <= BMI < 40: Béo phì cấp độ II\n",
    "- BMI > 40: Béo phì cấp độ III"
   ]
  },
  {
   "cell_type": "code",
   "execution_count": null,
   "id": "1058f441",
   "metadata": {},
   "outputs": [],
   "source": [
    "chieucao = int(input(\"Nhập chiều cao (cm) : \"))\n",
    "cannang = int(input(\"Nhập cân nặng (kg) : \"))\n",
    "BMI = cannang/((chieucao/100)**2)\n",
    "print(\"Chỉ số BMI của bạn là: \",BMI)\n",
    "\n",
    "if BMI<16:\n",
    "    print(\"Gầy cấp độ 3\")\n",
    "elif BMI>=16 and BMI<17:\n",
    "    print(\"Gầy cấp độ 2\")\n",
    "elif BMI>=17 and BMI<18.5:\n",
    "    print(\"Gầy cấp độ 1\")\n",
    "elif BMI>=18.5 and BMI<25:\n",
    "    print(\"Bình thường\")\n",
    "elif BMI>=25 and BMI<30:\n",
    "    print(\"Thừa cân\")\n",
    "elif BMI>=30 and BMI<35:\n",
    "    print(\"Béo phì cấp độ 1\")\n",
    "elif BMI<=35 and BMI<40:\n",
    "    print(\"Béo phì cấp độ 2\")\n",
    "else:\n",
    "    print(\"Béo phì cấp độ 3\")\n"
   ]
  },
  {
   "cell_type": "markdown",
   "id": "f7620342",
   "metadata": {},
   "source": [
    "### Bài 7\n",
    "\n",
    "Nhập ngày, tháng, năm. Hãy tính và in ra màn hình kể từ đầu năm đến ngày vừa nhập là bao nhiêu ngày."
   ]
  },
  {
   "cell_type": "code",
   "execution_count": null,
   "id": "4c57f0a5",
   "metadata": {},
   "outputs": [],
   "source": [
    "ngay = int(input(\"Nhập ngày:\"))\n",
    "thang = int(input(\"Nhập tháng:\"))\n",
    "nam = int(input(\"Nhập năm:\"))\n",
    "kq = 0\n",
    "\n",
    "a = 1\n",
    "for i in range(thang - 1):\n",
    "    if a <= 7:\n",
    "        if (a % 2 != 0):\n",
    "            kq += 31\n",
    "        elif (a == 2):\n",
    "            if (nam % 4 == 0):\n",
    "                kq += 29\n",
    "            else:\n",
    "                kq += 28\n",
    "        else:\n",
    "            kq += 30\n",
    "    else:\n",
    "        if (a % 2 != 0):\n",
    "            kq += 30\n",
    "        else:\n",
    "            kq += 31\n",
    "    a += 1\n",
    "\n",
    "kq += ngay - 1\n",
    "\n",
    "print(kq)\n"
   ]
  },
  {
   "cell_type": "markdown",
   "id": "7b66d8d5",
   "metadata": {},
   "source": [
    "### Bài 8\n",
    "\n",
    "Dựa vào bài vẽ đồ thị trong buổi học 6\n",
    "\n",
    "Hãy nhập vào 3 dữ liệu a, b, c bất kỳ (số thực)\n",
    "\n",
    "Tính toán và vẽ đồ thị với chiều cao của cột cao nhất là 300 đơn vị"
   ]
  },
  {
   "cell_type": "code",
   "execution_count": null,
   "id": "e950e96c",
   "metadata": {},
   "outputs": [],
   "source": []
  }
 ],
 "metadata": {
  "kernelspec": {
   "display_name": "Python 3 (ipykernel)",
   "language": "python",
   "name": "python3"
  },
  "language_info": {
   "codemirror_mode": {
    "name": "ipython",
    "version": 3
   },
   "file_extension": ".py",
   "mimetype": "text/x-python",
   "name": "python",
   "nbconvert_exporter": "python",
   "pygments_lexer": "ipython3",
   "version": "3.9.7"
  }
 },
 "nbformat": 4,
 "nbformat_minor": 5
}
