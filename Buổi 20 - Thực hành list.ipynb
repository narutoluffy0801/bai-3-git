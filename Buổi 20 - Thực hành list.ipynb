{
 "cells": [
  {
   "cell_type": "markdown",
   "id": "011431b9",
   "metadata": {},
   "source": [
    "# Thực hành List\n",
    "\n",
    "##### Chú ý: list một dãy số người ta còn gọi là một mảng\n",
    "\n",
    "### Bài 1"
   ]
  },
  {
   "cell_type": "markdown",
   "id": "61a90628",
   "metadata": {},
   "source": [
    "Viết hàm với đầu vào là một mảng, hãy tính và trả về giá trị trung bình của mảng"
   ]
  },
  {
   "cell_type": "code",
   "execution_count": 8,
   "id": "bcc197d5",
   "metadata": {},
   "outputs": [
    {
     "name": "stdout",
     "output_type": "stream",
     "text": [
      "3.0\n"
     ]
    }
   ],
   "source": [
    "def gttrungbinh(l):\n",
    "    tong=0\n",
    "    for i in l:\n",
    "        tong+=i\n",
    "    tb=tong/len(l)\n",
    "    return tb\n",
    "l=[1,2,3,4,5]\n",
    "print(gttrungbinh(l))\n",
    "        \n"
   ]
  },
  {
   "cell_type": "markdown",
   "id": "30d26c1b",
   "metadata": {},
   "source": [
    "### Bài 2"
   ]
  },
  {
   "cell_type": "markdown",
   "id": "674ef26c",
   "metadata": {},
   "source": [
    "Viết hàm với đầu vào là một mảng, hãy tìm và trả về giá trị âm lớn nhất trong mảng"
   ]
  },
  {
   "cell_type": "code",
   "execution_count": 18,
   "id": "1a9cb505",
   "metadata": {},
   "outputs": [
    {
     "name": "stdout",
     "output_type": "stream",
     "text": [
      "-2\n"
     ]
    }
   ],
   "source": [
    "def minusmax(l):\n",
    "    l1=[]\n",
    "    for i in l:\n",
    "        if i<0:\n",
    "            l1.append(i)\n",
    "    \n",
    "    \n",
    "    max_am= l1[0]\n",
    "    for i in l1:\n",
    "        if max_am < i:\n",
    "            max_am = i\n",
    "    return (max_am)\n",
    "l=[8,-2,-3,4,5,7]\n",
    "print(minusmax(l))\n",
    "           "
   ]
  },
  {
   "cell_type": "markdown",
   "id": "95cfaa74",
   "metadata": {},
   "source": [
    "### Bài 3"
   ]
  },
  {
   "cell_type": "markdown",
   "id": "5361a4b8",
   "metadata": {},
   "source": [
    "Viết hàm với giá trị đầu vào là một mảng, hãy sắp xếp và trả về mảng có độ lớn tăng dần"
   ]
  },
  {
   "cell_type": "code",
   "execution_count": 27,
   "id": "91ad4d5d",
   "metadata": {},
   "outputs": [
    {
     "name": "stdout",
     "output_type": "stream",
     "text": [
      "[2, 3, 5, 8, 25, 45, 46, 57, 65, 67]\n"
     ]
    }
   ],
   "source": [
    "l = [3,45,2,46,5,25,65,8,57,67]\n",
    "def sapxep(l):\n",
    "        \n",
    "# Lặp từ phần tử đầu đến kế cuối,\n",
    "# Vì khi đến phần tử cuối là đã sắp xếp thànhcông\n",
    "    for i in range(len(l)- 1):\n",
    "        for j in range(i + 1, len(l)):\n",
    "            if (l[i] > l[j]):\n",
    "            # Hoán đổi vị trí\n",
    "                s = l[i]\n",
    "                l[i] = l[j]\n",
    "                l[j] = s\n",
    "    return(l)\n",
    "print(sapxep(l))\n",
    "# Kết quả: [2, 3, 5, 8, 25, 45, 46, 57, 65, 67]\n",
    "    "
   ]
  },
  {
   "cell_type": "code",
   "execution_count": 31,
   "id": "c3ee00ce",
   "metadata": {},
   "outputs": [
    {
     "name": "stdout",
     "output_type": "stream",
     "text": [
      "[5, 6, 4, 3, 1, 2, 5, 7]\n",
      "[5, 4, 6, 3, 1, 2, 5, 7]\n",
      "[5, 4, 3, 6, 1, 2, 5, 7]\n",
      "[5, 4, 3, 1, 6, 2, 5, 7]\n",
      "[5, 4, 3, 1, 2, 6, 5, 7]\n",
      "[5, 4, 3, 1, 2, 5, 6, 7]\n",
      "[4, 5, 3, 1, 2, 5, 6, 7]\n",
      "[4, 3, 5, 1, 2, 5, 6, 7]\n",
      "[4, 3, 1, 5, 2, 5, 6, 7]\n",
      "[4, 3, 1, 2, 5, 5, 6, 7]\n",
      "[3, 4, 1, 2, 5, 5, 6, 7]\n",
      "[3, 1, 4, 2, 5, 5, 6, 7]\n",
      "[3, 1, 2, 4, 5, 5, 6, 7]\n",
      "[1, 3, 2, 4, 5, 5, 6, 7]\n",
      "[1, 2, 3, 4, 5, 5, 6, 7]\n",
      "[1, 2, 3, 4, 5, 5, 6, 7]\n"
     ]
    }
   ],
   "source": [
    "l=[6,5,4,3,1,2,5,7]\n",
    "def sapxep(l):\n",
    "    for i in range (1,len(l)):\n",
    "        for i in range (1,len(l)):\n",
    "            a=0\n",
    "            if l[i-1]>l[i]:\n",
    "                a=l[i-1]\n",
    "                l[i-1]=l[i]\n",
    "                l[i]=a\n",
    "                print (l)\n",
    "    return l\n",
    "print(sapxep(l))\n"
   ]
  },
  {
   "cell_type": "markdown",
   "id": "025cc0cb",
   "metadata": {},
   "source": [
    "### Bài 4"
   ]
  },
  {
   "cell_type": "markdown",
   "id": "dbf885a9",
   "metadata": {},
   "source": [
    "Viết hàm với giá trị đầu vào là một mảng, tìm x sao cho đoạn [-x,x] chứa tất cả các giá trị có trong mảng"
   ]
  },
  {
   "cell_type": "code",
   "execution_count": 56,
   "id": "84606ea2",
   "metadata": {},
   "outputs": [
    {
     "name": "stdout",
     "output_type": "stream",
     "text": [
      "7\n"
     ]
    }
   ],
   "source": [
    "l=[-6,5,4,-3,1,2,-5,7]\n",
    "\n",
    "def timkhoang(l):\n",
    "    l1=[]\n",
    "    for i in l:\n",
    "        j=abs(i)\n",
    "        l1.append(j)\n",
    "    \n",
    "    max_duong=l1[0]\n",
    "    for j in l1:\n",
    "        if max_duong < j :\n",
    "            max_duong = j\n",
    "    return (max_duong) \n",
    "\n",
    "print(timkhoang(l))\n",
    "  "
   ]
  },
  {
   "cell_type": "code",
   "execution_count": 48,
   "id": "2bf35586",
   "metadata": {},
   "outputs": [
    {
     "name": "stdout",
     "output_type": "stream",
     "text": [
      "- 5 5\n"
     ]
    }
   ],
   "source": [
    "def giatri(l):\n",
    "    x = 0\n",
    "    maxx = l[0]\n",
    "    for i in l:\n",
    "        if maxx < abs(i):\n",
    "            maxx = abs(i)\n",
    "    return maxx\n",
    "\n",
    "l = [-4,1,3,5,-3,-4]\n",
    "print(\"-\",giatri(l),giatri(l))\n"
   ]
  },
  {
   "cell_type": "markdown",
   "id": "98aa10b5",
   "metadata": {},
   "source": [
    "### Bài 5"
   ]
  },
  {
   "cell_type": "markdown",
   "id": "a7fe3092",
   "metadata": {},
   "source": [
    "Viết hàm với giá trị đầu vào là một mảng, Hãy tìm một vị trí trong mảng thỏa hai điền kiện: có hai giá trị lân cận và giá trị tại vị trí đó bằng tích hai giá trị lân cận. Nếu mảng không tồn tại giá trị như vậy thì hàm trả về giá trị - 1"
   ]
  },
  {
   "cell_type": "code",
   "execution_count": 1,
   "id": "9d55cb01",
   "metadata": {},
   "outputs": [
    {
     "name": "stdout",
     "output_type": "stream",
     "text": [
      "3\n"
     ]
    }
   ],
   "source": [
    "def giatrilancan(l):\n",
    "    n=-1\n",
    "    for i in range (1,len(l)-2):\n",
    "        if l[i]**2 == l[i-1]*l[i+1]:\n",
    "            if l[i+1]**2 == l[i]*l[i+2]:\n",
    "                n=i\n",
    "                return n\n",
    "\n",
    "l = [1,1,2,2,2,2,2,3,4]\n",
    "print(giatrilancan(l))\n"
   ]
  },
  {
   "cell_type": "markdown",
   "id": "035325d7",
   "metadata": {},
   "source": [
    "### Bài 6"
   ]
  },
  {
   "cell_type": "markdown",
   "id": "e2d35127",
   "metadata": {},
   "source": [
    "Viết hàm có giá trị đầu vào là một mảng. Hãy tìm giá trị đầu tiên trong mảng một chiều các số nguyên có chữ sốđầu tiên là chữ số lẻ. Nếu trong mảng không tồn tại giá trị như vậy thì hàm sẽ trả về giá trị 0."
   ]
  },
  {
   "cell_type": "code",
   "execution_count": 16,
   "id": "b8a8b8a2",
   "metadata": {},
   "outputs": [
    {
     "name": "stdout",
     "output_type": "stream",
     "text": [
      "0\n"
     ]
    }
   ],
   "source": [
    "l=[22,44,6,67,8,45,4567,8990]\n",
    "def sole(l):\n",
    "    for i in l:\n",
    "        d=len(str(i))\n",
    "        x=i//(10**(d-1))\n",
    "        if x%2==1:\n",
    "            return(i)\n",
    "            break\n",
    "        else:\n",
    "            return (0)\n",
    "        \n",
    "print(sole(l))\n",
    "    \n",
    "        "
   ]
  },
  {
   "cell_type": "code",
   "execution_count": 7,
   "id": "83071424",
   "metadata": {},
   "outputs": [
    {
     "name": "stdout",
     "output_type": "stream",
     "text": [
      "6\n"
     ]
    }
   ],
   "source": [
    "\n"
   ]
  },
  {
   "cell_type": "markdown",
   "id": "da270d1a",
   "metadata": {},
   "source": [
    "### Bài 7"
   ]
  },
  {
   "cell_type": "markdown",
   "id": "079fdafe",
   "metadata": {},
   "source": [
    "Viết hàm có giá trị đầu vào là một mảng. Hãy tìm giá trị đầu tiên trong mảng có dạng 2k. Nếu mảng không tồn tại giá trị dạng 2k thì hàm sẽ trả về giá trị 0."
   ]
  },
  {
   "cell_type": "code",
   "execution_count": 17,
   "id": "f9311f33",
   "metadata": {},
   "outputs": [],
   "source": [
    "\n",
    "def dang2k(l):\n",
    "    while a!=1:\n",
    "        if (a%2==0):\n",
    "            a=a//2\n",
    "        else\n"
   ]
  },
  {
   "cell_type": "markdown",
   "id": "80c8ab17",
   "metadata": {},
   "source": [
    "### Bài 8"
   ]
  },
  {
   "cell_type": "markdown",
   "id": "47c3a2e2",
   "metadata": {},
   "source": [
    "Viết hàm có giá trị đầu vào là một mảng. Hãy tìm giá trị thỏa điều kiện toàn chữ số lẻ và là giá trị lớn nhất thỏa điều kiện ấy trong mảng (nếu mảng không có giá trị thỏa điều kiện trên thì hàm trả về giá trị 0)"
   ]
  },
  {
   "cell_type": "code",
   "execution_count": 22,
   "id": "f8740d98",
   "metadata": {},
   "outputs": [],
   "source": [
    "import random\n",
    "\n",
    "l=[22,44,6,77,8,45,4567,8990]\n",
    "def check(a):\n",
    "     if a > 0:\n",
    "        while a != 0:\n",
    "            if ((a % 10) % 2 == 0):\n",
    "                return False\n",
    "            a = a // 10\n",
    "        return True\n",
    "    else:\n",
    "        return False\n",
    "\n",
    "def max(l):\n",
    "    maxl=[]\n",
    "    for i in range(1,len(l)):\n",
    "        if maxl<=l[i]:\n",
    "            maxl=l[i]\n",
    "\n",
    "def main(a):\n",
    "    b=[]\n",
    "    for i in a:\n",
    "        if (check(i)):\n",
    "            b.append(i)\n",
    "        if len(b)==0:\n",
    "            return 0\n",
    "        return max(b)\n",
    "    \n",
    "a = []\n",
    "for i in range(30):\n",
    "    a.append(random.randint(1000,9999))\n",
    "print(a)\n",
    "print(main(a))\n",
    "\n"
   ]
  },
  {
   "cell_type": "markdown",
   "id": "8a09bf26",
   "metadata": {},
   "source": [
    "### Bài 9"
   ]
  },
  {
   "cell_type": "markdown",
   "id": "09f9a4c6",
   "metadata": {},
   "source": [
    "Trong kỳ thi học sinh giỏi môn Tin học, một học sinh là người đạt giải đặc biệt. Ban tổ chức cho phép học sinh đó chọn các phần thưởng cho mình.\n",
    "\n",
    "Các phần thưởng xếp thành một dãy được đánh số từ 1 đến N (0 ≤ N ≤ 10000), phần thưởng thứ i có giá trị là Ai (1 ≤ Ai ≤ 100).\n",
    "\n",
    "Học sinh được phép chọn các phần thưởng cho mình theo nguyên tắc không chọn 3 phần thưởng liên tiếp nhau trong dãy.\n",
    "\n",
    "Viết chương trình để máy tính hướng dẫn học sinh đó chọn các phần thưởng sao cho tổng giá trị của các phần thưởng nhận được là lớn nhất.\n",
    "\n",
    "Nhập vào N, sau đó nhập n lần các giá trị Ai\n",
    "\n",
    "In ra giá trị lớn nhất học sinh được chọn, và các vị trí mà học sinh cần chọn để đạt được giá trị lớn nhất"
   ]
  },
  {
   "cell_type": "code",
   "execution_count": null,
   "id": "c350a1e9",
   "metadata": {},
   "outputs": [],
   "source": []
  }
 ],
 "metadata": {
  "kernelspec": {
   "display_name": "Python 3 (ipykernel)",
   "language": "python",
   "name": "python3"
  },
  "language_info": {
   "codemirror_mode": {
    "name": "ipython",
    "version": 3
   },
   "file_extension": ".py",
   "mimetype": "text/x-python",
   "name": "python",
   "nbconvert_exporter": "python",
   "pygments_lexer": "ipython3",
   "version": "3.9.7"
  }
 },
 "nbformat": 4,
 "nbformat_minor": 5
}
