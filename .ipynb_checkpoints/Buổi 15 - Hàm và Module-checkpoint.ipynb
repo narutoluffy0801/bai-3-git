{
 "cells": [
  {
   "cell_type": "markdown",
   "id": "73456e5e",
   "metadata": {},
   "source": [
    "# Hàm\n",
    "\n",
    "### Hàm\n",
    "\n",
    "Cú pháp:\n",
    "\n",
    "`def <tên hàm>(<tham số)>:\n",
    "    //Nội dung hàm`\n",
    "\n",
    "Gọi hàm:\n",
    "`<tên hàm>(<giá trị đầu vào>)`\n",
    "\n",
    "Ví dụ:\n",
    "\n",
    "Hãy viết 1 hàm số để tính tổng 2 số đầu vào và in nó ra màn hình"
   ]
  },
  {
   "cell_type": "code",
   "execution_count": 8,
   "id": "af5b9f6d",
   "metadata": {},
   "outputs": [
    {
     "name": "stdout",
     "output_type": "stream",
     "text": [
      "12\n"
     ]
    }
   ],
   "source": [
    "def tinhtong(a,b):\n",
    "    tong=a+b\n",
    "    print(tong)\n",
    "tinhtong(5,7)"
   ]
  },
  {
   "cell_type": "markdown",
   "id": "a7c39f47",
   "metadata": {},
   "source": [
    "### Giá trị trả về của hàm\n",
    "\n",
    "# return\n",
    "\n",
    "Cú pháp:\n",
    "\n",
    "`retrun <giá trị trả về`\n",
    "\n",
    "##### Lưu ý: Sau khi thực hiện lệnh return, chương trình sẽ thoát khỏi hàm ngay lập tức (những lệnh sau đó không được thực hiện)\n",
    "\n",
    "Ví dụ:\n",
    "\n",
    "Hãy viết 1 hàm trả về giá trị trung bình của 2 số bất kỳ"
   ]
  },
  {
   "cell_type": "code",
   "execution_count": null,
   "id": "0b527b95",
   "metadata": {},
   "outputs": [],
   "source": []
  },
  {
   "cell_type": "markdown",
   "id": "1d7f8db0",
   "metadata": {},
   "source": [
    "### Bài tập"
   ]
  },
  {
   "cell_type": "markdown",
   "id": "75fb488b",
   "metadata": {},
   "source": [
    "Viết hàm kiểm tra số nguyên tố"
   ]
  },
  {
   "cell_type": "code",
   "execution_count": 2,
   "id": "63701bd7",
   "metadata": {},
   "outputs": [
    {
     "name": "stdout",
     "output_type": "stream",
     "text": [
      "nhap vao 1 so123\n",
      "day ko phai so nguyen to\n"
     ]
    }
   ],
   "source": [
    "#viet 1 ham kiem tra 1 so la so nguyen to hay khong\n",
    "# ham so nguyen to bien a\n",
    "def songuyento(a):\n",
    "    if a<2:\n",
    "        return False\n",
    "    for i in range(2,a):\n",
    "        if a%i==0:\n",
    "            return False\n",
    "    return True\n",
    "#ham\n",
    "def kiemtra100(a):\n",
    "    if a >100:\n",
    "        return True\n",
    "    else:\n",
    "        return False\n",
    "so=int(input(\"nhap vao 1 so\"))\n",
    "if songuyento(so):\n",
    "    if (kiemtra100(a)):\n",
    "        print(\"day la so nguyen to lon hon 100\")\n",
    "    else:\n",
    "        print(\"day la so nguyen to be hon 100\")\n",
    "else:\n",
    "    print(\"day ko phai so nguyen to\")"
   ]
  },
  {
   "cell_type": "code",
   "execution_count": 3,
   "id": "cf4009b9",
   "metadata": {},
   "outputs": [
    {
     "name": "stdout",
     "output_type": "stream",
     "text": [
      "True\n"
     ]
    }
   ],
   "source": [
    "def isPrime(n):\n",
    "    for i in range(2, int(n**0.5) + 1):\n",
    "        if n % i == 0:\n",
    "            return False\n",
    "    return True\n",
    "\n",
    "print(isPrime(17))\n"
   ]
  },
  {
   "cell_type": "markdown",
   "id": "221103cf",
   "metadata": {},
   "source": [
    "Nhập vào 3 điểm toán, lý, hóa\n",
    "\n",
    "Hãy viết hàm in điểm trung bung bình rồi tính điểm trung bình của toán lý, tóa hóa, lý hóa và toán lý hóa"
   ]
  },
  {
   "cell_type": "code",
   "execution_count": null,
   "id": "ba9bbeea",
   "metadata": {},
   "outputs": [],
   "source": [
    "a = float(input(\"Nhập vào điểm toán\"))\n",
    "b = float(input(\"Nhập vào điểm lý\"))\n",
    "c = float(input(\"Nhập vào điểm hóa\"))\n",
    "def tb_tlh(d = a,e = b,f = c):\n",
    "    print((a+b)/2)\n",
    "    print((a+c)/2)\n",
    "    print((c+b)/2)\n",
    "    print((a + b + c)/2)\n",
    "tb_tlh()\n"
   ]
  },
  {
   "cell_type": "code",
   "execution_count": 2,
   "id": "1ba1d8ae",
   "metadata": {},
   "outputs": [
    {
     "name": "stdout",
     "output_type": "stream",
     "text": [
      "trung binh toan ly= 7.5\n",
      "trung binh toan hoa= 8.0\n",
      "trung binh ly hoa= 8.5\n"
     ]
    }
   ],
   "source": [
    "def diemtb(toan,ly,hoa):\n",
    "   \n",
    "    print(\"trung binh toan ly=\",(toan+ly)/2)\n",
    "    print(\"trung binh toan hoa=\",(toan+hoa)/2)\n",
    "    print(\"trung binh ly hoa=\",(ly+hoa)/2)\n",
    "    \n",
    "diemtb(7,8,9)"
   ]
  },
  {
   "cell_type": "code",
   "execution_count": null,
   "id": "0ff9cf75",
   "metadata": {},
   "outputs": [],
   "source": [
    "def TBToanLiHoa(a, b, c):\n",
    "    print(\"Trung binh toan li hoa:\", (a+b+c)/3)\n",
    "    print(\"Trung binh toan li :\", (a+b)/2)\n",
    "    print(\"Trung binh toan hoa:\", (a+c)/2)\n",
    "    print(\"Trung binh li hoa:\", (b+c)/2)\n",
    "\n",
    "TBToanLiHoa(7, 8 , 9)\n"
   ]
  },
  {
   "cell_type": "markdown",
   "id": "76665607",
   "metadata": {},
   "source": [
    "Viết hàm đếm số lượng từ của một chuỗi đưa vào"
   ]
  },
  {
   "cell_type": "code",
   "execution_count": 4,
   "id": "bdbebc32",
   "metadata": {},
   "outputs": [
    {
     "name": "stdout",
     "output_type": "stream",
     "text": [
      "nhap vao chuoi:xin chao cac ban\n",
      "4\n"
     ]
    }
   ],
   "source": [
    "s=input(\"nhap vao chuoi:\")\n",
    "def demtu(a):\n",
    "    a+=\" \"\n",
    "    kq=a.count(\" \")\n",
    "    return kq\n",
    "print(demtu(s))"
   ]
  },
  {
   "cell_type": "code",
   "execution_count": null,
   "id": "0f243dfd",
   "metadata": {},
   "outputs": [],
   "source": [
    "chuoi=input('nhap vao chuoi:')\n",
    "def demsotu(chuoi):\n",
    "    chuoi=chuoi+' '\n",
    "    print(chuoi.count(' '))\n",
    "demsotu(chuoi)\n",
    "\n",
    "    "
   ]
  },
  {
   "cell_type": "code",
   "execution_count": 6,
   "id": "761a5340",
   "metadata": {},
   "outputs": [
    {
     "name": "stdout",
     "output_type": "stream",
     "text": [
      "Nhap chuoi:   hello cac    ban\n",
      "3\n"
     ]
    }
   ],
   "source": [
    "def CountWords(s):\n",
    "    d = 1\n",
    "    s=s.strip()\n",
    "    for i in range(len(s)):\n",
    "        if s[i] == \" \" and s[i-1] != \" \":\n",
    "            d += 1\n",
    "    return d\n",
    "\n",
    "s = input(\"Nhap chuoi: \")\n",
    "print(CountWords(s))\n",
    "\n"
   ]
  },
  {
   "cell_type": "code",
   "execution_count": null,
   "id": "c1188574",
   "metadata": {},
   "outputs": [],
   "source": [
    "def slt(str1):\n",
    "    a = 0\n",
    "    for i in str1:\n",
    "        if str[i] ==\" \":\n",
    "            a = a+1\n",
    "    return a\n"
   ]
  },
  {
   "cell_type": "markdown",
   "id": "96d9faad",
   "metadata": {},
   "source": [
    "viết 1 hàm vẽ hình tròn và vẽ hình vuông và một hàm vẽ hinh tam giac. Giá trị đầu vào là a.\n",
    "Tất cả hàm này, đều bắt đầu từ 1 vị trí, sau khi vẽ ra, con trỏ sẽ tiến tới vị trí tiếp theo, cách vì đầu một khoảng a + 10 theo chiều x từ trái sang\n"
   ]
  },
  {
   "cell_type": "code",
   "execution_count": 4,
   "id": "039c5fb6",
   "metadata": {},
   "outputs": [
    {
     "name": "stdout",
     "output_type": "stream",
     "text": [
      "nhap vao so a50\n",
      "nhap vao chuoi:tron,vuong,tamgiac\n"
     ]
    }
   ],
   "source": [
    "import turtle\n",
    "import random\n",
    "\n",
    "a=int(input(\"nhap vao so a\"))\n",
    "t=turtle.Turtle()\n",
    "def hinhtron(a):\n",
    "   \n",
    "    t.circle(a)\n",
    "def hinhvuong(a):\n",
    "    t.goto(0,0)\n",
    "    t.fd(a+10)\n",
    "   \n",
    "    for i in range (4):\n",
    "        t.forward(100)\n",
    "        t.left(90)\n",
    "def tamgiac(a):\n",
    "    t.setx(3*a+30)\n",
    "    for i in range (3):\n",
    "        t.fd(a)\n",
    "        t.left(120)\n",
    "#hinhtron(a)\n",
    "#hinhvuong(a)\n",
    "#tamgiac(a)\n",
    "chuoi=input(\"nhap vao chuoi:\")\n",
    "chuoi+=\",\"\n",
    "chuoit=\"\"\n",
    "for i in chuoi:\n",
    "    if i!=\",\":\n",
    "        chuoit+=i\n",
    "    else:\n",
    "        if chuoit==\"tron\":\n",
    "            hinhtron(a)\n",
    "        elif chuoit==\"vuong\":\n",
    "            hinhvuong(a)\n",
    "        elif chuoit==\"tamgiac\":\n",
    "            tamgiac(a)\n",
    "        chuoit=\"\""
   ]
  },
  {
   "cell_type": "code",
   "execution_count": null,
   "id": "0c64752c",
   "metadata": {},
   "outputs": [],
   "source": [
    "import turtle\n",
    "import random\n",
    "\n",
    "t = turtle.Turtle()\n",
    "t.penup()\n",
    "t.back(200)\n",
    "a = int(input(\"Nhập a:\"))\n",
    "\n",
    "def randomcolor():\n",
    "    a = random.randint(1,3)\n",
    "    if (a == 1):\n",
    "        return \"red\"\n",
    "    if (a == 2):\n",
    "        return \"yellow\"\n",
    "    if (a == 3):\n",
    "        return \"green\"\n",
    "\n",
    "def hinhvuong():\n",
    "    global a\n",
    "    for i in range(4):\n",
    "        t.fd(a)\n",
    "        t.left(90)\n",
    "    t.penup()\n",
    "    t.fd(a + 10)\n",
    "    t.pendown()\n",
    "    \n",
    "def hinhtron():\n",
    "    global a\n",
    "    t.penup()\n",
    "    t.fd(a/2)\n",
    "    t.pendown()\n",
    "    t.circle(a/2)\n",
    "    t.penup()\n",
    "    t.fd(a/2 + 10)\n",
    "    t.pendown()\n",
    "    \n",
    "def tamgiac():\n",
    "    global a\n",
    "    for i in range(3):\n",
    "        t.fd(a)\n",
    "        t.left(120)\n",
    "    t.penup()\n",
    "    t.fd(a + 10)\n",
    "    t.pendown()\n",
    "    \n",
    "chuoi = input(\"Nhập vào chuỗi:\")\n",
    "chuoi += \",\"\n",
    "chuoit = \"\"\n",
    "for i in chuoi:\n",
    "    if (i != \",\"):\n",
    "        chuoit += i\n",
    "    else:\n",
    "        chuoit = chuoit.strip()\n",
    "        t.begin_fill()\n",
    "        t.color(\"black\",randomcolor())\n",
    "        if (chuoit == \"tròn\"):\n",
    "            hinhtron()\n",
    "        elif (chuoit == \"vuông\"):\n",
    "            hinhvuong()\n",
    "        elif (chuoit == \"tam giác\"):\n",
    "            tamgiac()\n",
    "        t.end_fill()\n",
    "        chuoit = \"\""
   ]
  },
  {
   "cell_type": "code",
   "execution_count": null,
   "id": "3d2af63b",
   "metadata": {},
   "outputs": [],
   "source": [
    "van = int(input(\"\"))\n",
    "toan = int(input(\"\"))\n",
    "\n",
    "dtb = \"\"\n",
    "\n",
    "def tinhdtb(van,toan):\n",
    "    global dtb\n",
    "    dtb = (van + toan)/2\n",
    "    \n",
    "def xethsgioi():\n",
    "    global dtb\n",
    "    if (dtb > 8):\n",
    "        print(\"HS Giỏi\")\n",
    "    else:\n",
    "        print(\"HS Khá\")"
   ]
  }
 ],
 "metadata": {
  "kernelspec": {
   "display_name": "Python 3 (ipykernel)",
   "language": "python",
   "name": "python3"
  },
  "language_info": {
   "codemirror_mode": {
    "name": "ipython",
    "version": 3
   },
   "file_extension": ".py",
   "mimetype": "text/x-python",
   "name": "python",
   "nbconvert_exporter": "python",
   "pygments_lexer": "ipython3",
   "version": "3.9.7"
  }
 },
 "nbformat": 4,
 "nbformat_minor": 5
}
