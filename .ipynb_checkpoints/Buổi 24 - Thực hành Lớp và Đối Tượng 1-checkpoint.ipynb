{
 "cells": [
  {
   "cell_type": "markdown",
   "id": "ec00548e",
   "metadata": {},
   "source": [
    "# Thực hành Lớp và Đối Tượng 1"
   ]
  },
  {
   "cell_type": "markdown",
   "id": "e9a5b1b0",
   "metadata": {},
   "source": [
    "### Bài 1"
   ]
  },
  {
   "cell_type": "markdown",
   "id": "b89649bc",
   "metadata": {},
   "source": [
    "Viết một lớp point để lưu trữ một điểm trong hệ trục tọa độ Oxyz\n",
    "\n",
    "Class này có:\n",
    "\n",
    "<b> Các biến: </b>\n",
    "- <b>x</b>: mang tọa độ x của diểm\n",
    "- <b>y</b>: mang tọa độ y của diểm\n",
    "- <b>z</b>: mang tọa độ z của diểm\n",
    "\n",
    "<b> Các hàm: </b>\n",
    "- <b>khoangcachgoc:</b> hàm này trả về khoảng cách từ điểm đến điểm gốc(0,0,0)\n",
    "- <b>khoangcach(tham số đầu vào là 1 đối tượng có lớp point):</b> hàm này trả về khoảng cách từ điểm đến điểm được đưa vào\n",
    "- <b>diemdoixung:</b> hàm này trả về điểm đối của điểm qua điểm gốc(0,0,0)\n",
    "- <b>diemtrungbinh(tham số đầu vào là 1 đối tượng có lớp point):</b> hàm này trả về điểm nằm chính giữa điểm và điểm được đưa vào\n",
    "- <b>thanghang(tham số đầu vào là 2 đối tượng có lớp point):</b> hàm này trả về kết quả kiểm tra 3 điểm có thẳng hằng hay không\n",
    "- <b>vuonggoc((tham số đầu vào là 3 đối tượng có lớp point):</b> hàm trả trả về kết quả kiểm tra 4 điểm có tạo thành 2 đường thẳng vuông góc được hay không"
   ]
  },
  {
   "cell_type": "code",
   "execution_count": 34,
   "id": "ca30ea7d",
   "metadata": {},
   "outputs": [
    {
     "name": "stdout",
     "output_type": "stream",
     "text": [
      "8.774964387392123\n",
      "5.916079783099616\n",
      "(-4,-5,-6)\n",
      "(6.5,6.5,5.5)\n"
     ]
    }
   ],
   "source": [
    "import math\n",
    "class point():\n",
    "    def __init__(self,x,y,z):\n",
    "        self.x=x\n",
    "        self.y=y\n",
    "        self.z=z\n",
    "    def indiem(self):\n",
    "        print(\"(\",self.x,\",\",self.y,\",\",self.z,\")\",sep = \"\")\n",
    "    def khoangcachgoc(self):\n",
    "        return ((self.x**2)+(self.y**2)+(self.z**2))**0.5\n",
    "    def khoangcach(self,a):\n",
    "        m=abs(self.x-a.x)\n",
    "        n=abs(self.y-a.y)\n",
    "        p=abs(self.z-a.z)\n",
    "        return (m**2+n**2+p**2)**0.5\n",
    "    def doixung(self):\n",
    "        x=self.x*(-1)\n",
    "        y=self.y*(-1)\n",
    "        z=self.z*(-1)\n",
    "        return point(x,y,z)\n",
    "    def diemtrungbinh(self,b):\n",
    "        m=(self.x+b.x)/2\n",
    "        n=(self.y+b.y)/2\n",
    "        p=(self.z+b.z)/2\n",
    "        return point(m,n,p)\n",
    "    def thanghang(self,b,c):\n",
    "        ab = []\n",
    "        bc = []\n",
    "        ab.append(b.x-self.x)\n",
    "        ab.append(b.y-self.y)\n",
    "        ab.append(b.z-self.z)\n",
    "        bc.append(c.x-b.x)\n",
    "        bc.append(c.y-b.y)\n",
    "        bc.append(c.z-b.z)\n",
    "        if (ab[0]/bc[0]) == (ab[1]/bc[1]) == (ab[2]/bc[2]):\n",
    "            return True\n",
    "        return False\n",
    "    def checkvuonggoc(a,b,c,d):\n",
    "        ab = []\n",
    "        cd = []\n",
    "        ab.append(b.x-a.x)\n",
    "        ab.append(b.y-a.y)\n",
    "        ab.append(b.z-a.z)\n",
    "        cd.append(c.x-d.x)\n",
    "        cd.append(c.y-d.y)\n",
    "        cd.append(c.z-d.z)\n",
    "        tong = 0\n",
    "        for i in range(3):\n",
    "            tong += ab[i]*cd[i]\n",
    "        dodaivectoab = (ab[0]**2 + ab[1]**2+ab[2]**2)*0.5\n",
    "        dodaivectocd = (cd[0]**2 + cd[1]**2+cd[2]**2)*0.5\n",
    "        tichvohuong = tong/(dodaivectoab*dodaivectocd)\n",
    "        if tichvohuong == 0:\n",
    "            return True\n",
    "        return False\n",
    "    def vuonggoc(self,a,b,c):\n",
    "        if self.chechvuonggoc(self,a,b,c) or self.chechvuonggoc(self,b,a,c) or self.chechvuonggoc(self,c,b,a):\n",
    "            return True\n",
    "        return False\n",
    "\n",
    "        \n",
    "        \n",
    "        \n",
    "diemA=point(4,5,6)\n",
    "diemB=point(9,8,5)\n",
    "print(diemA.khoangcachgoc())\n",
    "khoangcach=diemA.khoangcach(diemB)\n",
    "print(khoangcach)\n",
    "diemA1=diemA.doixung()\n",
    "diemA1.indiem()\n",
    "diemC=diemA.diemtrungbinh(diemB)\n",
    "diemC.indiem()\n"
   ]
  },
  {
   "cell_type": "code",
   "execution_count": null,
   "id": "0ae491d9",
   "metadata": {},
   "outputs": [],
   "source": [
    "def kiemtravecto(l1, l2):\n",
    "    heso = l1[0]/l2[0]\n",
    "    for i in range(1, len(l1)):\n",
    "        if l1[i]/l2[i] != heso:\n",
    "            return False\n",
    "    return True\n",
    "\n",
    "def vuonggoc(self, p1, p2, p3):\n",
    "\tvector1 = [p1.x - self.x, p1.y - self.y, p1.z - self.z]\n",
    "        vector2 = [p2.x - p3.x, p2.y - p3.y, p2.z - p3.z]\n",
    "        if tichvohuong(vector1, vector2) == 0:\n",
    "            return True\n",
    "        \n",
    "        vector1 = [p2.x - self.x, p2.y - self.y, p2.z - self.z]\n",
    "        vector2 = [p1.x - p3.x, p1.y - p3.y, p1.z - p3.z]\n",
    "        if tichvohuong(vector1, vector2) == 0:\n",
    "            return True\n",
    "        \n",
    "        vector1 = [p3.x - self.x, p3.y - self.y, p3.z - self.z]\n",
    "        vector2 = [p1.x - p2.x, p1.y - p2.y, p1.z - p2.z]\n",
    "        if tichvohuong(vector1, vector2) == 0:\n",
    "            return True\n",
    "        \n",
    "        return False\n"
   ]
  },
  {
   "cell_type": "code",
   "execution_count": null,
   "id": "ebc8eccb",
   "metadata": {},
   "outputs": [],
   "source": []
  },
  {
   "cell_type": "markdown",
   "id": "59c44a5f",
   "metadata": {},
   "source": [
    "### Bài 2"
   ]
  },
  {
   "cell_type": "markdown",
   "id": "b6f8706c",
   "metadata": {},
   "source": [
    "Viết một lớp plane để lưu trữ một mặt phẳng trong hệ trục tọa độ Oxyz (có dạng ax + by + cz = 0)\n",
    "\n",
    "Class này có:\n",
    "\n",
    "<b> Các biến: </b>\n",
    "- <b>a</b>: hệ số a của phương trình\n",
    "- <b>b</b>: hệ số b của phương trình\n",
    "- <b>c</b>: hệ số c của phương trình\n",
    "\n",
    "<b> Các hàm: </b>\n",
    "- <b>khoangcachgoc:</b> hàm này trả về khoảng cách từ mặt phẳng đến điểm gốc(0,0,0)\n",
    "- <b>khoangcach(tham số đầu vào là 1 đối tượng có lớp point):</b> hàm này trả về khoảng cách từ mặt phẳng đến điểm được đưa vào\n",
    "- <b>tinhchat(tham số đầu vào là 1 đối tượng có lớp plane):</b> hàm này kiểm tra xem 2 mặt phẳng cắt nhau hay song song hay trùng nhau (trả về 0: cắt nhau, 1: song song, 2: trùng nhau)\n",
    "- <b>thuocmatphang(tham số đầu vào là 1 đối tượng có lớp point):</b> hàm này trả về kết quả điểm có thuộc mặt phẳng hay không\n",
    "- <b>matphangtrungbinh(tham số đầu vào là 1 đối tượng có lớp point):</b> hàm này trả về mặt phẳng nằm chính giữa mặt phẳng và điểm được đưa vào\n",
    "- <b>songsong(tham số đầu vào là 2 đối tượng có lớp point):</b> hàm này trả về kết quả kiểm tra 2 điểm có có tạo đường thẳng song song với mặt phẳng hay không\n",
    "- <b>vuonggoc((tham số đầu vào là 2 đối tượng có lớp point):</b> hàm này trả về kết quả kiểm tra 2 điểm có có tạo đường thẳng vuông góc với mặt phẳng hay không"
   ]
  },
  {
   "cell_type": "code",
   "execution_count": null,
   "id": "ce32e9aa",
   "metadata": {},
   "outputs": [],
   "source": []
  }
 ],
 "metadata": {
  "kernelspec": {
   "display_name": "Python 3 (ipykernel)",
   "language": "python",
   "name": "python3"
  },
  "language_info": {
   "codemirror_mode": {
    "name": "ipython",
    "version": 3
   },
   "file_extension": ".py",
   "mimetype": "text/x-python",
   "name": "python",
   "nbconvert_exporter": "python",
   "pygments_lexer": "ipython3",
   "version": "3.9.7"
  }
 },
 "nbformat": 4,
 "nbformat_minor": 5
}
