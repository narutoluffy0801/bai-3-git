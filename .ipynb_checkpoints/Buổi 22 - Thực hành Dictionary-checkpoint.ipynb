{
 "cells": [
  {
   "cell_type": "markdown",
   "id": "636d6b20",
   "metadata": {},
   "source": [
    "# Thực hành Dictionary"
   ]
  },
  {
   "cell_type": "markdown",
   "id": "4a1577c4",
   "metadata": {},
   "source": [
    "### Bài 1"
   ]
  },
  {
   "cell_type": "markdown",
   "id": "57583ad7",
   "metadata": {},
   "source": [
    "Cho list a và list b là 2 dãy số bất kỳ\n",
    "\n",
    "Hãy tìm những phần tử trong 2 list trùng nhau và in toàn bộ ra màn hình\n",
    "\n",
    "Ví dụ:\n",
    "\n",
    "a = [2,4,5,7,9]\n",
    "\n",
    "b = [2,5,10,12,45,65]\n",
    "\n",
    "in ra: 2, 5"
   ]
  },
  {
   "cell_type": "markdown",
   "id": "3bf52ad2",
   "metadata": {},
   "source": [
    "#### Khai báo list"
   ]
  },
  {
   "cell_type": "code",
   "execution_count": 43,
   "id": "ff4b8cef",
   "metadata": {},
   "outputs": [
    {
     "name": "stdout",
     "output_type": "stream",
     "text": [
      "[2, 5]\n"
     ]
    }
   ],
   "source": [
    "a = [2,4,5,7,9]\n",
    "\n",
    "b = [2,5,10,12,45,65]\n",
    "c=[]\n",
    "for i in a:\n",
    "    for j in b:\n",
    "        if i==j:\n",
    "            c.append(i)\n",
    "print(c)\n"
   ]
  },
  {
   "cell_type": "markdown",
   "id": "f7b1767c",
   "metadata": {},
   "source": [
    "#### Code"
   ]
  },
  {
   "cell_type": "code",
   "execution_count": 6,
   "id": "8d0bc5c0",
   "metadata": {},
   "outputs": [
    {
     "name": "stdout",
     "output_type": "stream",
     "text": [
      "[2, 10, 5]\n"
     ]
    }
   ],
   "source": [
    "a = [2,2,10,4,5,7,9]\n",
    "\n",
    "b = [2,5,10,12,45,65]\n",
    "c=[]\n",
    "for i in a:\n",
    "    if i in b:\n",
    "        b.remove(i)\n",
    "        c.append(i)\n",
    "print(c)\n"
   ]
  },
  {
   "cell_type": "markdown",
   "id": "2646ccba",
   "metadata": {},
   "source": [
    "### Bài 2"
   ]
  },
  {
   "cell_type": "markdown",
   "id": "6cc6dc38",
   "metadata": {},
   "source": [
    "Cho một dictonary có các giá trị là các số nguyên\n",
    "\n",
    "Hãy viết hàm tìm key có giá trị lớn nhất"
   ]
  },
  {
   "cell_type": "markdown",
   "id": "7b92f0ce",
   "metadata": {},
   "source": [
    "#### Khai báo dictionary"
   ]
  },
  {
   "cell_type": "code",
   "execution_count": 7,
   "id": "3ec8ec73",
   "metadata": {},
   "outputs": [],
   "source": [
    "dictt={\"abcdefjh\":1, \"cbs\":2,\"bcd\":3}"
   ]
  },
  {
   "cell_type": "markdown",
   "id": "65018ab5",
   "metadata": {},
   "source": [
    "#### Code"
   ]
  },
  {
   "cell_type": "code",
   "execution_count": 4,
   "id": "e7a165eb",
   "metadata": {},
   "outputs": [
    {
     "name": "stdout",
     "output_type": "stream",
     "text": [
      "bcd\n"
     ]
    }
   ],
   "source": [
    "def tim_key_max(d):\n",
    "    maxx= None\n",
    "    for i in d:\n",
    "        if maxx == None or maxx < d[i]:\n",
    "            maxx=d[i]\n",
    "            key=i\n",
    "    return key\n",
    "\n",
    "print(tim_key_max(dictt))      "
   ]
  },
  {
   "cell_type": "markdown",
   "id": "c562bc84",
   "metadata": {},
   "source": [
    "### Bài 3"
   ]
  },
  {
   "cell_type": "markdown",
   "id": "945e8929",
   "metadata": {},
   "source": [
    "Cho một dictonary có các key đều là chuỗi\n",
    "\n",
    "Hãy viết hàm trả về giá trị của key có độ dài chuỗi là lớn nhất"
   ]
  },
  {
   "cell_type": "markdown",
   "id": "1855bc8c",
   "metadata": {},
   "source": [
    "#### Khai báo dictionary"
   ]
  },
  {
   "cell_type": "code",
   "execution_count": 10,
   "id": "5ff9a0e5",
   "metadata": {},
   "outputs": [],
   "source": [
    "dictt={\"abcdefjh\":1, \"cbs\":2,\"bcd\":3}"
   ]
  },
  {
   "cell_type": "markdown",
   "id": "21fae59d",
   "metadata": {},
   "source": [
    "#### Code"
   ]
  },
  {
   "cell_type": "code",
   "execution_count": 5,
   "id": "b3c2194d",
   "metadata": {},
   "outputs": [
    {
     "name": "stdout",
     "output_type": "stream",
     "text": [
      "abcdefjh\n"
     ]
    }
   ],
   "source": [
    "def maxkey(a):\n",
    "    n=0\n",
    "    s=\"\"\n",
    "    for i in a:\n",
    "        if len(i)>n:\n",
    "            n=len(i)\n",
    "            s=i\n",
    "    return s\n",
    "print(maxkey(dictt))"
   ]
  },
  {
   "cell_type": "code",
   "execution_count": 6,
   "id": "13579b52",
   "metadata": {},
   "outputs": [
    {
     "name": "stdout",
     "output_type": "stream",
     "text": [
      "1\n"
     ]
    }
   ],
   "source": [
    "def tim_value_chuoi_max(d):\n",
    "    maxx = None\n",
    "    for i in d:\n",
    "        if maxx == None or maxx < len(i):\n",
    "            maxx = len(i)\n",
    "            value = d[i]\n",
    "    return value\n",
    "print(tim_value_chuoi_max(dictt))"
   ]
  },
  {
   "cell_type": "markdown",
   "id": "205c6ef4",
   "metadata": {},
   "source": [
    "### Bài 4"
   ]
  },
  {
   "cell_type": "markdown",
   "id": "bd7ee674",
   "metadata": {},
   "source": [
    "Cho một list là một tập các chuỗi\n",
    "\n",
    "Hãy mã hóa list trên theo nguyên tắc sau:\n",
    "\n",
    "Mỗi một phần tử, ta mã hóa thành những con số theo thứ tự tăng dần\n",
    "\n",
    "Ví dụ:\n",
    "\n",
    "List = [\"đen\",\"vàng\",\"xanh\",\"vàng\",\"xanh\",\"đỏ\",\"hồng\"]\n",
    "\n",
    "List mã hóa = [0,1,2,1,2,3,4]\n",
    "\n",
    "- \"đen\" mã hóa thành 0\n",
    "- \"vàng\" mã hóa thành 1\n",
    "- \"xanh\" mã hóa thành 2\n",
    "- \"đỏ\" mã hòa thánh 3\n",
    "- \"hồng\" mã hòa thành 4"
   ]
  },
  {
   "cell_type": "markdown",
   "id": "e7ed3048",
   "metadata": {},
   "source": [
    "#### Khai báo"
   ]
  },
  {
   "cell_type": "code",
   "execution_count": null,
   "id": "7573ae07",
   "metadata": {},
   "outputs": [],
   "source": [
    "list = [\"đen\",\"vàng\",\"xanh\",\"vàng\",\"xanh\",\"đỏ\",\"hồng\"]\n"
   ]
  },
  {
   "cell_type": "markdown",
   "id": "9c61e63b",
   "metadata": {},
   "source": [
    "#### Code"
   ]
  },
  {
   "cell_type": "code",
   "execution_count": 13,
   "id": "3e3cdf86",
   "metadata": {},
   "outputs": [
    {
     "name": "stdout",
     "output_type": "stream",
     "text": [
      "[0, 1, 2, 1, 2, 3, 4]\n",
      "{'đen': 0, 'vàng': 1, 'xanh': 2, 'đỏ': 3, 'hồng': 4}\n"
     ]
    }
   ],
   "source": [
    "\n",
    "n={}\n",
    "mahoa=[]\n",
    "a=0\n",
    "for i in list:\n",
    "    if i not in n:\n",
    "        n[i]=a\n",
    "        a=a+1\n",
    "    mahoa.append(n[i])\n",
    "\n",
    "print(mahoa)\n",
    "print(n)\n",
    "\n"
   ]
  },
  {
   "cell_type": "markdown",
   "id": "8de66962",
   "metadata": {},
   "source": [
    "### Bài 5"
   ]
  },
  {
   "cell_type": "markdown",
   "id": "1e5c416d",
   "metadata": {},
   "source": [
    "Hãy viết hàm từ một list mã hóa, trả về list gốc của bài 4"
   ]
  },
  {
   "cell_type": "markdown",
   "id": "4881b7b0",
   "metadata": {},
   "source": [
    "#### Khai báo"
   ]
  },
  {
   "cell_type": "code",
   "execution_count": 14,
   "id": "602c7b70",
   "metadata": {},
   "outputs": [
    {
     "name": "stdout",
     "output_type": "stream",
     "text": [
      "{0: 'đen', 1: 'vàng', 2: 'xanh', 3: 'đỏ', 4: 'hồng'}\n",
      "['đen', 'vàng', 'xanh', 'vàng', 'xanh', 'đỏ', 'hồng']\n"
     ]
    }
   ],
   "source": [
    "L = []\n",
    "#n={'đen': 0, 'vàng': 1, 'xanh': 2, 'đỏ': 3, 'hồng': 4}\n",
    "#mahoa=[0, 1, 2, 1, 2, 3, 4]\n",
    "def doinguocdict(d):   #đổi ngược giá trị của dict n\n",
    "    kq = {}            # cho dict ngược là rỗng\n",
    "    for i in d:        # chạy lần lượt các key trong dict d\n",
    "        kq[d[i]] = i   # dict kq{} thêm key là giá trị của i trong dict n\n",
    "    return kq          # và gán key đó có giá trị bằng key của n\n",
    "d = doinguocdict(n)\n",
    "print(d)\n",
    "for i in mahoa:        #với mỗi i trong list mã hóa\n",
    "    L.append(d[i]) #chuỗi L thêm giá trị của tại key i trong dict d\n",
    "    \n",
    "print(L)"
   ]
  },
  {
   "cell_type": "markdown",
   "id": "9a738638",
   "metadata": {},
   "source": [
    "#### Code"
   ]
  },
  {
   "cell_type": "markdown",
   "id": "1a982dc5",
   "metadata": {},
   "source": [
    "### Bài 6"
   ]
  },
  {
   "cell_type": "markdown",
   "id": "726f6302",
   "metadata": {},
   "source": [
    "Một khách sạn có N phòng đôi được đánh số từ 1 đến N và M đoàn khách.\n",
    "\n",
    "Với mỗi đoàn khách, ta xếp mỗi cặp khách của đoàn vào một phòng trống theo thứ tự phòng tăng dần.\n",
    "\n",
    "Nếu đoàn khách có số người lẻ thì người khách cuối cùng được xếp vào một phòng trống tiếp theo.\n",
    "\n",
    "Nếu đã hết phòng còn trống thì ta sẽ xếp khách vào những phòng mới chỉ có 1 khách theo thứ tự phòng tăng dần.\n",
    "\n",
    "In ra số khách của mỗi phòng sau khi xếp\n",
    "\n",
    "Giả sử không có 2 đoàn khách nào đến cùng một lúc.\n",
    "\n",
    "#### Ví dụ 1:\n",
    "\n",
    "N = 7, M = 3\n",
    "\n",
    "doankhach = [3,7,3]\n",
    "\n",
    "Ta in: 2, 2, 2, 2, 2, 1, 2\n",
    "\n",
    "#### Ví dụ 2:\n",
    "\n",
    "N = 5, M = 3\n",
    "\n",
    "doankhach = [2,3,2]\n",
    "\n",
    "Ta in: 2, 2, 1, 2, 0"
   ]
  },
  {
   "cell_type": "markdown",
   "id": "e3346872",
   "metadata": {},
   "source": [
    "#### Khai báo"
   ]
  },
  {
   "cell_type": "code",
   "execution_count": 16,
   "id": "9f73da45",
   "metadata": {},
   "outputs": [],
   "source": [
    "N = 7\n",
    "M = 3\n",
    "doankhach = [3,7,3]"
   ]
  },
  {
   "cell_type": "markdown",
   "id": "8f3d747c",
   "metadata": {},
   "source": [
    "#### Code"
   ]
  },
  {
   "cell_type": "code",
   "execution_count": 17,
   "id": "b19e56c9",
   "metadata": {},
   "outputs": [
    {
     "data": {
      "text/plain": [
       "[2, 2, 2, 2, 2, 1, 2]"
      ]
     },
     "execution_count": 17,
     "metadata": {},
     "output_type": "execute_result"
    }
   ],
   "source": [
    "def main(N,doankhach):\n",
    "    phong = -1\n",
    "    kq = [2]*N\n",
    "    if 2*N <= sum(doankhach):\n",
    "        return kq\n",
    "    for i in doankhach:\n",
    "        phong += 1\n",
    "        for j in range(i):\n",
    "            while kq[phong] == 0:\n",
    "                if phong == N - 1:\n",
    "                    phong = 0\n",
    "                    continue\n",
    "                phong += 1\n",
    "            kq[phong] -= 1\n",
    "    kq2 = []\n",
    "    for x in kq:\n",
    "        kq2.append(2-x)\n",
    "    return kq2\n",
    "main(N,doankhach)"
   ]
  },
  {
   "cell_type": "code",
   "execution_count": null,
   "id": "ad70fd62",
   "metadata": {},
   "outputs": [],
   "source": [
    "# Đầu vào\n",
    "N = 15\n",
    "M = 7\n",
    "doankhach = [3,7,2,2,3,3,6]\n",
    "\n",
    "# Xếp vào 2 list\n",
    "dic1 = {}\n",
    "dic2={}\n",
    "for i in range(1,N+1):\n",
    "    dic1[i] = 0\n",
    "#print(dic1)\n",
    "\n",
    "for i in range(1,M+1):\n",
    "    dic2[i] = doankhach[i-1]\n",
    "print(dic2)\n",
    "\n",
    "# Hàm xếp phòng\n",
    "ht=N\n",
    "def xepphong(m):\n",
    "    global ht\n",
    "    global dic1\n",
    "    global N\n",
    "    if ht==N:\n",
    "        ht=1\n",
    "    else:\n",
    "        ht=ht+1\n",
    "    while m>0:\n",
    "        if (dic1[ht]+m)>2:\n",
    "            m=m+dic1[ht]-2\n",
    "            dic1[ht]=2\n",
    "            if ht==N:\n",
    "                ht=1\n",
    "            else:\n",
    "                ht=ht+1\n",
    "        else:\n",
    "            dic1[ht]+=m\n",
    "            m=0\n",
    "\n",
    "#Kiểm tra có xếp được phòng không\n",
    "s=0\n",
    "for i in dic2:\n",
    "    s=s+dic2[i]\n",
    "if s>N*2:\n",
    "    print('không thể xếp phòng')\n",
    "else:\n",
    "    for i in dic2:\n",
    "        xepphong(dic2[i])  \n",
    "\n"
   ]
  },
  {
   "cell_type": "code",
   "execution_count": 19,
   "id": "70d63d7e",
   "metadata": {},
   "outputs": [
    {
     "name": "stdout",
     "output_type": "stream",
     "text": [
      "[2, 2, 2, 2, 2, 1, 2]\n"
     ]
    }
   ],
   "source": [
    "N = 7\n",
    "M = 3\n",
    "doankhach = [3,7,3]\n",
    "listphong=[]\n",
    "phonghientai=0\n",
    "full=False\n",
    "for i in doankhach:\n",
    "    while i!=0:\n",
    "        if not full:\n",
    "            if i>=2:\n",
    "                listphong.append(2)\n",
    "                i=i-2\n",
    "            else:\n",
    "                listphong.append(1)\n",
    "                i=0\n",
    "            phonghientai+=1\n",
    "            if phonghientai==N:\n",
    "                full=True\n",
    "                phonghientai=0\n",
    "        else:\n",
    "            if listphong[phonghientai]==1:\n",
    "                listphong[phonghientai]+=1\n",
    "                i=i-1\n",
    "            phonghientai+=1\n",
    "print(listphong)\n",
    "        "
   ]
  }
 ],
 "metadata": {
  "kernelspec": {
   "display_name": "Python 3 (ipykernel)",
   "language": "python",
   "name": "python3"
  },
  "language_info": {
   "codemirror_mode": {
    "name": "ipython",
    "version": 3
   },
   "file_extension": ".py",
   "mimetype": "text/x-python",
   "name": "python",
   "nbconvert_exporter": "python",
   "pygments_lexer": "ipython3",
   "version": "3.9.7"
  }
 },
 "nbformat": 4,
 "nbformat_minor": 5
}
