{
 "cells": [
  {
   "cell_type": "markdown",
   "id": "b8cdcffd",
   "metadata": {},
   "source": [
    "# List\n",
    "\n",
    "### Đặt vấn đề\n",
    "\n",
    "Nếu như ta có một lượng dữ liệu không biết trước được số lượng cần lưu vào biến, ta không thể lưu bằng cách thông thường\n",
    "\n",
    "Lấy ví dụ:\n",
    "\n",
    "Nhập vào số n, sau đó nhập tiếp n số và lưu trữ n số đó vào biến\n",
    "\n",
    "Vậy ta hoàn toàn không biết được người dùng sẽ nhập bao nhiêu số để lưu trữ\n",
    "\n",
    "Lúc này ta cần đến List\n",
    "\n",
    "List giúp chúng ta lưu nhiều giá trị cùng 1 lúc, nhưng chỉ cần đặt tên cho nó lần\n",
    "\n",
    "##### Tài liệu tham khảo: https://www.w3schools.com/python/python_lists.asp"
   ]
  },
  {
   "cell_type": "markdown",
   "id": "eed71f12",
   "metadata": {},
   "source": [
    "### Cách thức khai báo List\n",
    "\n",
    "Cú pháp:\n",
    "\n",
    "`<tên list> = []`\n",
    "\n",
    "##### List được khai báo bằng 2 dấu ngoặc vuông\n",
    "\n",
    "<b> Ví dụ 1: </b>\n",
    "\n",
    "`a = []`\n",
    "\n",
    "a là một list, không có bất kỳ phần tử nào trong đó\n",
    "\n",
    "<b> Ví dụ 2: </b>\n",
    "\n",
    "`b = [1,2,3]`\n",
    "\n",
    "##### Các phần tử trong list được khai báo, mỗi phần tử cách nhau một dấu phẩy\n",
    "\n",
    "b là một list có 3 phần tử\n",
    "\n",
    "<b> Ví dụ 3: </b>\n",
    "\n",
    "`c = [\"abc\",5,1.5]`\n",
    "\n",
    "##### Các phần tử trong list có thể có những kiểu dữ liệu khác nhau\n",
    "\n",
    "c là một list có 3 phần tử, phần tử thứ nhất có kiểu dữ liệu là chuỗi, phần tử thứ hai có kiểu dữ liệu là số nguyên và phần tử cuối cùng có kiểu dữ liệu là số thực\n",
    "\n",
    "<b> Hãy khai báo một list và in list đó lên màn hình </b>"
   ]
  },
  {
   "cell_type": "code",
   "execution_count": 5,
   "id": "44728c9b",
   "metadata": {},
   "outputs": [
    {
     "name": "stdout",
     "output_type": "stream",
     "text": [
      "3\n"
     ]
    }
   ],
   "source": [
    "a=[5,6,7]\n",
    "print(len(a))"
   ]
  },
  {
   "cell_type": "markdown",
   "id": "2c8c08cd",
   "metadata": {},
   "source": [
    "### Truy xuất phần tử trong List\n",
    "\n",
    "Giống như chuỗi, các phần tử trong list được truy xuất theo cú pháp:\n",
    "\n",
    "`<tên list>[<vị trí của phần tử>]`\n",
    "\n",
    "<b> Ví dụ 1: </b>\n",
    "\n",
    "`a = [1,4,6]\n",
    "print(a[1])`\n",
    "\n",
    "Màn hình sẽ in ra 4\n",
    "\n",
    "<b> Hãy khai báo một list có một chuỗi và một số rồi in chuỗi trong list đó ra màn hình </b>"
   ]
  },
  {
   "cell_type": "code",
   "execution_count": 9,
   "id": "bc799d8b",
   "metadata": {},
   "outputs": [
    {
     "name": "stdout",
     "output_type": "stream",
     "text": [
      "h\n"
     ]
    }
   ],
   "source": [
    "a = [1,\"hello\",6]\n",
    "print(a[1][0])"
   ]
  },
  {
   "cell_type": "markdown",
   "id": "50ef64bf",
   "metadata": {},
   "source": [
    "### Thêm phần tử vào List\n",
    "\n",
    "Cú pháp:\n",
    "\n",
    "`<tên list>.append()`\n",
    "\n",
    "<b>Ví dụ:</b>\n",
    "\n",
    "`a = []\n",
    "a.append(5)`\n",
    "\n",
    "a sẽ có 1 phần tử là 5\n",
    "\n",
    "<b> Hãy khai báo một list rỗng, rồi thêm 2 phần tử bất kỳ vào list đó, sau đó in list đó ra</b>"
   ]
  },
  {
   "cell_type": "code",
   "execution_count": 12,
   "id": "b91fd9e2",
   "metadata": {},
   "outputs": [
    {
     "name": "stdout",
     "output_type": "stream",
     "text": [
      "[5, 6, 5, 'helllllo']\n"
     ]
    }
   ],
   "source": [
    "a=[5,6]\n",
    "a.append(5)\n",
    "a.append(\"helllllo\")\n",
    "print(a)"
   ]
  },
  {
   "cell_type": "markdown",
   "id": "ff6a7973",
   "metadata": {},
   "source": [
    "### Thay đổi giá trị của List\n",
    "\n",
    "Cú pháp:\n",
    "\n",
    "`<tên list>[<vị trí của phần tử>] = <giá trị mới>`\n",
    "\n",
    "<b> Hãy khai báo một list bất kỳ, rồi thay đổi 1 phần tử trong nó, sau đó in list đó ra</b>"
   ]
  },
  {
   "cell_type": "code",
   "execution_count": 14,
   "id": "7297dcdc",
   "metadata": {},
   "outputs": [
    {
     "name": "stdout",
     "output_type": "stream",
     "text": [
      "[1, 6, 5, 'helllllo']\n"
     ]
    }
   ],
   "source": [
    "a=[5,6]\n",
    "a.append(5)\n",
    "a.append(\"helllllo\")\n",
    "a[0]=1\n",
    "print(a)"
   ]
  },
  {
   "cell_type": "markdown",
   "id": "980c19f6",
   "metadata": {},
   "source": [
    "### Xóa 1 phần tử trong list\n",
    "\n",
    "#### Lệnh remove()\n",
    "\n",
    "Cú pháp:\n",
    "\n",
    "`<tên list>.remote(<giá trị cần xóa>)`\n",
    "\n",
    "<b>Ví dụ:</b>\n",
    "\n",
    "`a = [\"hi\",3,\"hello\",4]\n",
    "a.remove(\"hi\")`\n",
    "\n",
    "Sau khi thực hiện lệnh trên, a chỉ còn [3,\"hello\",4]\n",
    "\n",
    "<b> Hãy khai báo một list bất kỳ, rồi xóa 1 phần tử trong nó bằng lệnh remove(), sau đó in list đó ra</b>"
   ]
  },
  {
   "cell_type": "code",
   "execution_count": 17,
   "id": "50de30e7",
   "metadata": {},
   "outputs": [
    {
     "name": "stdout",
     "output_type": "stream",
     "text": [
      "[6, 5, 'helllllo']\n"
     ]
    }
   ],
   "source": [
    "a=[5,6]\n",
    "a.append(5)\n",
    "a.append(\"helllllo\")\n",
    "\n",
    "a.remove(5)\n",
    "print(a)"
   ]
  },
  {
   "cell_type": "markdown",
   "id": "af35913d",
   "metadata": {},
   "source": [
    "#### Lệnh pop()\n",
    "\n",
    "Cú pháp:\n",
    "\n",
    "`<tên list>.pop(<vị trí cần xóa>)`\n",
    "\n",
    "<b>Ví dụ:</b>\n",
    "\n",
    "`a = [\"hi\",3,\"hello\",4]\n",
    "a.pop(3)`\n",
    "\n",
    "Sau khi thực hiện lệnh trên, a chỉ còn [\"hi\",3,\"hello\"]\n",
    "\n",
    "<b> Hãy khai báo một list bất kỳ, rồi xóa 1 phần tử trong nó bằng lệnh pop(), sau đó in list đó ra</b>"
   ]
  },
  {
   "cell_type": "code",
   "execution_count": 18,
   "id": "071259d0",
   "metadata": {},
   "outputs": [
    {
     "name": "stdout",
     "output_type": "stream",
     "text": [
      "['hi', 3, 'hello']\n"
     ]
    }
   ],
   "source": [
    "a = [\"hi\",3,\"hello\",4]\n",
    "a.pop(3)\n",
    "print(a)"
   ]
  },
  {
   "cell_type": "markdown",
   "id": "a5137358",
   "metadata": {},
   "source": [
    "### Sao chép list\n",
    "\n",
    "###### Lưu ý: Nếu ta có list a, ta thực hiện lệnh b = a, list b sẽ bị ảnh hưởng khi list a có sự thay đổi\n",
    "\n",
    "<b> Ví dụ: </b>\n",
    "\n",
    "`a = [5,7,1]\n",
    "b = a\n",
    "a.remove(5)`\n",
    "\n",
    "Khi thực hiện 3 lệnh trên, b sẽ bằng [7,1], dù cho ta thực hiện lệnh `b = a` trước `a.remove(5)`\n",
    "\n",
    "<b> Kiểm chứng sự ảnh hưởng khi gán list </b>"
   ]
  },
  {
   "cell_type": "code",
   "execution_count": null,
   "id": "d822a376",
   "metadata": {},
   "outputs": [],
   "source": [
    "#khi cho b=a, không tạo ra biến b mới, mà đặt thêm tên cho list đó thôi. \n",
    "#nên thao tác cho a ảnh hưởng đến list cũng sẽ thay đổi trên b "
   ]
  },
  {
   "cell_type": "markdown",
   "id": "a3a454d0",
   "metadata": {},
   "source": [
    "### Lệnh copy()\n",
    "\n",
    "Cú pháp:\n",
    "\n",
    "`<tên list>.copy()`\n",
    "\n",
    "##### Dùng lệnh copy sẽ khắc phục được vấn đề gán list a cho b\n",
    "\n",
    "<b> Ví dụ: </b>\n",
    "\n",
    "`a = [5,7,1]\n",
    "b = a.copy()\n",
    "a.remove(5)`\n",
    "\n",
    "Khi thực hiện 3 lệnh trên, b vẫn sẽ bằng [5,7,1]\n",
    "\n",
    "Lúc này, b sẽ là một list mới độc lập hoàn toàn với a\n",
    "\n",
    "<b> Khai báo list a, dùng lệnh copy cho list b, rồi thêm phần tử vào list a, sau đó in cả 2 list lên màn hình</b>"
   ]
  },
  {
   "cell_type": "code",
   "execution_count": 19,
   "id": "8f5d2987",
   "metadata": {},
   "outputs": [
    {
     "name": "stdout",
     "output_type": "stream",
     "text": [
      "[7, 1]\n",
      "[5, 7, 1]\n"
     ]
    }
   ],
   "source": [
    "a = [5,7,1]\n",
    "b = a.copy()\n",
    "a.remove(5)\n",
    "print(a)\n",
    "print(b)"
   ]
  },
  {
   "cell_type": "markdown",
   "id": "8d04085d",
   "metadata": {},
   "source": [
    "### Lệnh len()\n",
    "\n",
    "Tương tự như chuỗi, ta có thể dùng lệnh len cho list để trả về số lượng của list\n",
    "\n",
    "<b> Ví dụ:</b>\n",
    "\n",
    "`a = [3,\"Hello\",5,\"hi\"]\n",
    "b = len(a)`\n",
    "\n",
    "Giá trị của b là 4\n",
    "\n",
    "<b> Khai báo list a, in lên độ dài của list a </b>"
   ]
  },
  {
   "cell_type": "code",
   "execution_count": 21,
   "id": "7a4248ff",
   "metadata": {},
   "outputs": [
    {
     "name": "stdout",
     "output_type": "stream",
     "text": [
      "4\n"
     ]
    }
   ],
   "source": [
    "a = [3,\"Hello\",5,\"hi\"]\n",
    "b = len(a)\n",
    "print(b)\n"
   ]
  },
  {
   "cell_type": "markdown",
   "id": "c5ba2d37",
   "metadata": {},
   "source": [
    "### Duyệt chuỗi bằng lệnh for\n",
    "\n",
    "<b> Duyệt chuỗi với vị trí </b>"
   ]
  },
  {
   "cell_type": "code",
   "execution_count": 22,
   "id": "3cac5a9e",
   "metadata": {},
   "outputs": [
    {
     "name": "stdout",
     "output_type": "stream",
     "text": [
      "3\n",
      "Hello\n",
      "5\n",
      "hi\n"
     ]
    }
   ],
   "source": [
    "a = [3,\"Hello\",5,\"hi\"]\n",
    "for i in range(len(a)):\n",
    "    print(a[i])"
   ]
  },
  {
   "cell_type": "markdown",
   "id": "807ede8c",
   "metadata": {},
   "source": [
    "<b> Duyệt chuỗi với giá trị từng phần tử</b>"
   ]
  },
  {
   "cell_type": "code",
   "execution_count": 24,
   "id": "001a5392",
   "metadata": {},
   "outputs": [
    {
     "name": "stdout",
     "output_type": "stream",
     "text": [
      "3\n",
      "Hello\n",
      "5\n",
      "hi\n"
     ]
    }
   ],
   "source": [
    "a = [3,\"Hello\",5,\"hi\"]\n",
    "for i in a:\n",
    "    print(i)"
   ]
  },
  {
   "cell_type": "markdown",
   "id": "11f45588",
   "metadata": {},
   "source": [
    "### Bài tập"
   ]
  },
  {
   "cell_type": "markdown",
   "id": "908dc8b3",
   "metadata": {},
   "source": [
    "Nhập vào một dãy số nguyên dương (ngưng nhập nếu người dùng nhập -1)\n",
    "\n",
    "Sau khi nhập hãy:\n",
    "- In ra số lớn nhất trong dãy\n",
    "- In ra số bé nhất trong dãy\n",
    "- In ra dãy số nguyên tố tìm được trong dãy vừa nhập"
   ]
  },
  {
   "cell_type": "code",
   "execution_count": 31,
   "id": "a8a42b9c",
   "metadata": {},
   "outputs": [
    {
     "name": "stdout",
     "output_type": "stream",
     "text": [
      "Nhap so: 6\n",
      "Nhap so: 7\n",
      "Nhap so: 45\n",
      "Nhap so: 23\n",
      "Nhap so: 34\n",
      "Nhap so: 56\n",
      "Nhap so: 78\n",
      "Nhap so: 98\n",
      "Nhap so: -1\n",
      "\n",
      "So lon Nhat: 98\n",
      "So be Nhat: 6\n",
      "[7, 23]\n"
     ]
    }
   ],
   "source": [
    "#nhập từng số đưa vào list, khi nào nhập -1 thì ngừng\n",
    "a = []\n",
    "while (True):\n",
    "    num = int(input(\"Nhap so: \"))\n",
    "    if num == -1:\n",
    "        break\n",
    "    a.append(num)\n",
    "#in ra số lớn nhất\n",
    "max_num = a[0]\n",
    "min_num = a[0]\n",
    "for num in a:\n",
    "    if max_num < num:\n",
    "        max_num = num\n",
    "    if min_num > num:\n",
    "        min_num = num\n",
    "        \n",
    "print()       \n",
    "print(\"So lon Nhat:\", max_num)\n",
    "print(\"So be Nhat:\", min_num)\n",
    "#in ra list cac so nguyen to\n",
    "#khai bao ham so nguyen to\n",
    "def isPrime(n):\n",
    "    for i in range(2, int(n**0.5) + 1):\n",
    "        if n % i == 0:\n",
    "            return False\n",
    "    return True\n",
    "#gọi ra số nguyên tố bằng if rồi thêm append vào list b\n",
    "b=[]\n",
    "for i in a:\n",
    "    if (isPrime(i)):\n",
    "        b.append(i)\n",
    "print(b)"
   ]
  },
  {
   "cell_type": "code",
   "execution_count": 30,
   "id": "a7edd2cd",
   "metadata": {},
   "outputs": [
    {
     "name": "stdout",
     "output_type": "stream",
     "text": [
      "Nhap so: 6\n",
      "nhap so: 5\n",
      "nhap so: 7\n",
      "nhap so: 8\n",
      "nhap so: 3\n",
      "nhap so: 34\n",
      "nhap so: 23\n",
      "nhap so: -1\n",
      "[6, 5, 7, 8, 3, 34, 23]\n",
      "34\n",
      "3\n",
      "5\n",
      "7\n",
      "3\n",
      "23\n"
     ]
    }
   ],
   "source": [
    "#nhập từng số đưa vào list, khi nào nhập -1 thì ngừng\n",
    "a = []\n",
    "num = int(input(\"Nhap so: \"))\n",
    "while(num!=-1):\n",
    "    a.append(num)\n",
    "    num=int(input(\"nhap so: \"))\n",
    "print(a)\n",
    "#In ra số lớn nhất, số bé nhất\n",
    "maxx=a[0]\n",
    "minn=a[0]\n",
    "for i in a:\n",
    "    if i>maxx:\n",
    "        maxx=i\n",
    "    if i<minn:\n",
    "        minn=i\n",
    "print(maxx)\n",
    "print(minn)\n",
    "#in ra dãy số nguyên tố trong list\n",
    "#viet ham so nguyen to\n",
    "def songuyento(a):\n",
    "    if a<2:\n",
    "        return False\n",
    "    for i in range(2,a):\n",
    "        if a%i==0:\n",
    "            return False\n",
    "    return True\n",
    "#goi ham trong list\n",
    "for i in a:\n",
    "    if (songuyento(i)):\n",
    "        print(i)\n",
    "    "
   ]
  },
  {
   "cell_type": "markdown",
   "id": "6165c233",
   "metadata": {},
   "source": [
    "Viết hàm với dữ liệu đầu vào bao gồm 3 tham số: list, a, b. Hàm này có công dụng tìm số lớn nhất trong đoạn từ vị trí a đến vị trí b trong list."
   ]
  },
  {
   "cell_type": "code",
   "execution_count": null,
   "id": "df2eb47b",
   "metadata": {},
   "outputs": [],
   "source": [
    "def FindMax(l, a, b):\n",
    "    if a < 0 or b >= len(l):\n",
    "        return None\n",
    "    max_num = l[a]\n",
    "    for i in range(a, b + 1):\n",
    "        if max_num < l[i]:\n",
    "            max_num = l[i]\n",
    "    return max_num\n",
    "\n",
    "l = [1, 3, 9, 8, 6, 7, 16, 24]\n",
    "FindMax(l, 1, 5)\n"
   ]
  },
  {
   "cell_type": "code",
   "execution_count": 33,
   "id": "df84ea6c",
   "metadata": {},
   "outputs": [
    {
     "data": {
      "text/plain": [
       "3"
      ]
     },
     "execution_count": 33,
     "metadata": {},
     "output_type": "execute_result"
    }
   ],
   "source": [
    "\n",
    "def thamso(l,a,b):\n",
    "    maxx=l[a]\n",
    "    for i in range(a,b+1):\n",
    "        if maxx<l[i]:\n",
    "            maxx=l[i]\n",
    "        return maxx\n",
    "l=[1,2,3,5,7,8]\n",
    "thamso(l,2,4)"
   ]
  },
  {
   "cell_type": "markdown",
   "id": "c9019a81",
   "metadata": {},
   "source": [
    "Viết hàm có tham số đầu vào là list, giá trị trả về là số lượng số nguyên tố bé hơn 100 trong list"
   ]
  },
  {
   "cell_type": "code",
   "execution_count": 43,
   "id": "2ba6896f",
   "metadata": {},
   "outputs": [
    {
     "name": "stdout",
     "output_type": "stream",
     "text": [
      "3\n"
     ]
    }
   ],
   "source": [
    "def songuyento(a):\n",
    "    if a<2:\n",
    "        return False\n",
    "    for i in range(2,a):\n",
    "        if a%i==0:\n",
    "            return False\n",
    "    return True\n",
    "def demsoluong(l):\n",
    "    dem=0\n",
    "    for i in l:\n",
    "        if songuyento(i) and i<100:\n",
    "            dem+=1\n",
    "    return dem\n",
    "print(demsoluong([1,2,3,4,5,6]))"
   ]
  },
  {
   "cell_type": "markdown",
   "id": "a339cd48",
   "metadata": {},
   "source": [
    "Viết hàm tìm giá trị dương đầu tiên của list, nếu không có giá trị dương trả về -1"
   ]
  },
  {
   "cell_type": "code",
   "execution_count": null,
   "id": "1cec86cb",
   "metadata": {},
   "outputs": [],
   "source": [
    "l=[-1,-2,4,9]\n",
    "def timduong(l):\n",
    "    n=-1\n",
    "    for i in l:\n",
    "        if i>0:\n",
    "            n=i\n",
    "            break\n",
    "    return n\n",
    "print(timduong(l))\n"
   ]
  },
  {
   "cell_type": "markdown",
   "id": "98660ebb",
   "metadata": {},
   "source": [
    "Viết hàm có 2 giá trị đầu vào là list và x. Tìm giá trị trong list xa x nhất"
   ]
  },
  {
   "cell_type": "code",
   "execution_count": null,
   "id": "05ac0f24",
   "metadata": {},
   "outputs": [],
   "source": [
    "l=[-1,-2,4,9]\n",
    "x=11\n",
    "def xanhat(l,x):\n",
    "    n=abs(l[0]-x)\n",
    "    for i in l:\n",
    "        if abs(i-x)>n:\n",
    "            n=abs(i-x)\n",
    "            m=i\n",
    "    return m,n\n",
    "print(xanhat(l,x))\n"
   ]
  },
  {
   "cell_type": "code",
   "execution_count": 44,
   "id": "cecc0ab9",
   "metadata": {},
   "outputs": [
    {
     "name": "stdout",
     "output_type": "stream",
     "text": [
      "9\n"
     ]
    }
   ],
   "source": [
    "def timgiatrixanhat(l,x):\n",
    "    maxx=0\n",
    "    for i in l:\n",
    "        if abs(i-x)>maxx:\n",
    "            maxx=abs(i-x)\n",
    "    return maxx\n",
    "la=[4,5,8,9,1]\n",
    "x=0\n",
    "print(timgiatrixanhat(la,x))"
   ]
  },
  {
   "cell_type": "markdown",
   "id": "20363c0b",
   "metadata": {},
   "source": [
    "Một người dùng số tiền là U đô-la và V Euro để mua một loại nguyên liệu sản xuất. \n",
    "\n",
    "Có N công ty nước ngoài bán nguyên liệu trên được đánh số từ 1 đến N. Công ty thứ i có giá bán Ai đô la/1 kg nguyên liệu và Bi Euro/1 kg nguyên liệu. \n",
    "\n",
    "Tuy nhiên, tại mỗi công ty chỉ bán nguyên liệu cho một khách hàng hoặc theo đô-la, hoặc theo Euro. \n",
    "\n",
    "Hãy giúp người đó tìm cách chọn ra 2 công ty để mua hàng sao cho số lượng nguyên liệu sản xuất có thể mua được là nhiều nhất.\n",
    "\n",
    "Nhập vào: Từ bàn phím 3 số theo thứ tự : N U V (1 ≤ N ≤ 20; 1 ≤ U, V ≤ 1000) và N cặp số nguyên Ai, Bi (1 < Ai, Bi < 1000) (nhập lần lượng A1, B1 rồi A2, B2)\n",
    "\n",
    "In ra : Số lượng nguyên liệu S(kg) người đó mua được với 2 chữ số thập phân."
   ]
  },
  {
   "cell_type": "code",
   "execution_count": null,
   "id": "c4b9cebc",
   "metadata": {},
   "outputs": [],
   "source": [
    "#\n",
    "N=int(input(\"nhap vao N:\"))\n",
    "U=int(input(\"nhap vao U:\"))\n",
    "V=int(input(\"nhap vao V:\"))\n",
    "A=[]\n",
    "B=[]\n",
    "for i in range(N):\n",
    "    A.append(float(input(\"nhap vao A\"+str(i)+\":\")))\n",
    "    B.append(float(input(\"nhap vao B\"+str(i)+\":\")))\n",
    "A.sort()\n",
    "B.sort()\n",
    "def timvitrimin(l):\n",
    "    min=l[0]\n",
    "    kq=0\n",
    "    for i in range(len(l)):\n",
    "        if min>l[i]:\n",
    "            min=l[i]\n",
    "            kq=i\n",
    "    return i\n",
    "\n",
    "vitria=timvitrimin(A)\n",
    "vitrib=timvitrimin(B)\n",
    "if vitria != vitrib:\n",
    "    print(U/A[vitria])+V/B[vitrib]\n",
    "else:\n",
    "    At=A.copy()\n",
    "    At[vitria]=1000\n",
    "    vitrianhi=timvitrimin(At)\n",
    "    Bt = B.copy()\n",
    "    Bt[vitrib] = 1000\n",
    "    vitribnhi = timvitrimin(Bt)\n",
    "    S1 = U/A[vitria] + V/B[vitribnhi]\n",
    "    S2 = U/A[vitrianhi] + V/B[vitrib]\n",
    "    if S1 > s2:\n",
    "        print(S1)\n",
    "    else:\n",
    "        print(S2)\n",
    "\n",
    "    "
   ]
  },
  {
   "cell_type": "code",
   "execution_count": null,
   "id": "c30f14b7",
   "metadata": {},
   "outputs": [],
   "source": [
    "N=int(input('N:'))\n",
    "U=int(input('U:'))\n",
    "V=int(input('V:'))\n",
    "A=[]\n",
    "B=[]\n",
    "for i in range (0,N):\n",
    "    print('cap ai,bi thu',i+1,'la:')\n",
    "    ai=input()\n",
    "    A.append(ai)\n",
    "    bi=input()\n",
    "    B.append(bi)\n",
    "mina=int(A[0])\n",
    "minb=int(B[0])\n",
    "n=1\n",
    "m=1\n",
    "for i in range (0,N):\n",
    "    if int(A[i])<mina:\n",
    "        mina=int(A[i])\n",
    "        #print ('giá trị mina:', mina)\n",
    "        n=i+1\n",
    "for i in range (0,N):\n",
    "    if int(B[i])<minb:\n",
    "        minb=int(B[i])\n",
    "        #print ('giá trị minb:', minb)\n",
    "        m=i+1\n",
    "Sa=U/mina\n",
    "Sb=V/minb\n",
    "S=Sa+Sb\n",
    "#print(A,B) \n",
    "print('Mua',Sa,'kg nguyen lieu o cong ty thu',n,'voi gia',mina,'USD/1kg')\n",
    "print('Mua',Sb,'kg nguyen lieu o cong ty thu',m,'voi gia',minb,'Euro/1kg')\n",
    "print('Tong mua duoc',S,'kg nguyen lieu')\n",
    "\n"
   ]
  }
 ],
 "metadata": {
  "kernelspec": {
   "display_name": "Python 3 (ipykernel)",
   "language": "python",
   "name": "python3"
  },
  "language_info": {
   "codemirror_mode": {
    "name": "ipython",
    "version": 3
   },
   "file_extension": ".py",
   "mimetype": "text/x-python",
   "name": "python",
   "nbconvert_exporter": "python",
   "pygments_lexer": "ipython3",
   "version": "3.9.7"
  }
 },
 "nbformat": 4,
 "nbformat_minor": 5
}
