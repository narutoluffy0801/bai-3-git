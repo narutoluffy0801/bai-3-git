{
 "cells": [
  {
   "cell_type": "markdown",
   "id": "8678001d",
   "metadata": {},
   "source": [
    "# Thực hành hàm\n",
    "\n",
    "### Bài 1\n",
    "\n",
    "Viết hàm có dữ liệu đầu vào là 2 số a và b, số nào lớn hơn thì in bảng cửu chương của số đó"
   ]
  },
  {
   "cell_type": "code",
   "execution_count": 2,
   "id": "3ee632cf",
   "metadata": {},
   "outputs": [
    {
     "name": "stdout",
     "output_type": "stream",
     "text": [
      "6.5 x 1 = 6.5\n",
      "6.5 x 2 = 13.0\n",
      "6.5 x 3 = 19.5\n",
      "6.5 x 4 = 26.0\n",
      "6.5 x 5 = 32.5\n",
      "6.5 x 6 = 39.0\n",
      "6.5 x 7 = 45.5\n",
      "6.5 x 8 = 52.0\n",
      "6.5 x 9 = 58.5\n",
      "6.5 x 10 = 65.0\n"
     ]
    }
   ],
   "source": [
    "\n",
    "def cuuchuong(a,b):\n",
    "    \n",
    "    if a>b:\n",
    "        for i in range(1,11,1):\n",
    "            print(a,\"x\",i,\"=\",a*i)\n",
    "    else:\n",
    "        for i in range(1,11,1):\n",
    "            print(b,\"x\",i,\"=\",b*i)\n",
    "cuuchuong(5.8,6.5)\n",
    "    "
   ]
  },
  {
   "cell_type": "markdown",
   "id": "9c48e89d",
   "metadata": {},
   "source": [
    "### Bài 2\n",
    "\n",
    "Viết hàm `xoachuoi` có dữ liệu đầu vào là 2 chuỗi a và b, hãy tìm trong chuỗi a có chuỗi b hay không, nếu có hãy xóa toán bộ chuỗi b trong a.\n",
    "\n",
    "Sau đó trả về chuỗi a mới\n",
    "\n",
    "Ví dụ:\n",
    "\n",
    "chuoi1 = \"xin chào các bạn, các bạn có khỏe không?\"\n",
    "\n",
    "chuoi2 = \"các bạn\"\n",
    "\n",
    "chuoi3 = xoachuoi(chuoi1,chuoi2)\n",
    "\n",
    "print(chuoi3)\n",
    "\n",
    "Kết quả in ra là:\n",
    "xin chào ,  có khỏe không"
   ]
  },
  {
   "cell_type": "code",
   "execution_count": 1,
   "id": "c81fef0b",
   "metadata": {},
   "outputs": [
    {
     "name": "stdout",
     "output_type": "stream",
     "text": [
      "nhap vao chuoi 1: xin chào các bạn, các bạn có khỏe không?\n",
      "nhap vao chuoi 2:các bạn\n",
      "xin chào ,  có khỏe không?\n"
     ]
    }
   ],
   "source": [
    "chuoi1=input(\"nhap vao chuoi 1: \")\n",
    "#chuoi1 = \"xin chào , các bạn có khỏe không?\"\n",
    "\n",
    "chuoi2 =input(\"nhap vao chuoi 2:\")\n",
    "def xoachuoi(a,b):\n",
    "    t=a.find(b)\n",
    "    if t==-1:\n",
    "        return \"khong co \\\"\" + b +\"\\\"trong\"+ a+ \"\\\"\"\n",
    "    else:\n",
    "        \n",
    "        return a.replace(b,\"\")\n",
    "print(xoachuoi(chuoi1,chuoi2))\n",
    "     "
   ]
  },
  {
   "cell_type": "markdown",
   "id": "0b4a28f0",
   "metadata": {},
   "source": [
    "### Bài 3\n",
    "\n",
    "Viết hàm `kiemtramatkhau` với dữ liệu đầu vào là 1 chuỗi có công dụng như sau:\n",
    "\n",
    "Kiểm tra xem chuỗi đầu vào có phải là mật khẩu mạnh hay không, nếu có trả về True, nếu không trả về False\n",
    "\n",
    "Mật khẩu mạnh là mật khẩu phải có ít nhất 1 chữ hoa, 1 chữ thường, 1 số và 1 ký tự đặc biệt"
   ]
  },
  {
   "cell_type": "code",
   "execution_count": 6,
   "id": "77731ae1",
   "metadata": {},
   "outputs": [
    {
     "name": "stdout",
     "output_type": "stream",
     "text": [
      "nhap vao mat khau: hy67H%\n",
      "mat khau manh\n"
     ]
    }
   ],
   "source": [
    "\n",
    "\n",
    "x=input(\"nhap vao mat khau: \")\n",
    "x=str(x)\n",
    "def kiemtramatkhau(x):\n",
    "    \n",
    "    inhoa=False\n",
    "    chuthuong=False\n",
    "    so=False\n",
    "    kytu=False\n",
    "    for i in x:\n",
    "        if i.isupper():\n",
    "            inhoa=True\n",
    "        elif i.islower():\n",
    "            chuthuong=True\n",
    "        elif i.isnumeric():\n",
    "            so=True\n",
    "        elif i.isupper()==False and i.islower()==False and .isnumeric()==False:\n",
    "            kytu=True\n",
    "    if inhoa==True and chuthuong==True and so==True and kytu==True:\n",
    "        print (\"mat khau manh\")\n",
    "    else:\n",
    "        print(\"nhap lai\")\n",
    "kiemtramatkhau(x)\n",
    "    "
   ]
  },
  {
   "cell_type": "code",
   "execution_count": null,
   "id": "46715516",
   "metadata": {},
   "outputs": [],
   "source": [
    "matkhau = input(\"Nhập mật khẩu:\")\n",
    "\n",
    "def kiemtramatkhau(s):\n",
    "    hoa = thuong = kytu = so = False\n",
    "    for i in s:\n",
    "        if (i.isupper()):\n",
    "            hoa = True\n",
    "        elif (i.islower()):\n",
    "            thuong = True\n",
    "        elif (i.isdecimal()):\n",
    "            so = True\n",
    "        else:\n",
    "            kytu = True\n",
    "        if (hoa and thuong and kytu and so):\n",
    "            return True\n",
    "    return False\n",
    "\n",
    "print(kiemtramatkhau(matkhau))\n",
    "\n"
   ]
  },
  {
   "cell_type": "code",
   "execution_count": 1,
   "id": "439065ce",
   "metadata": {},
   "outputs": [
    {
     "name": "stdout",
     "output_type": "stream",
     "text": [
      "Nhập mật khẩu:jfjfabey89\n",
      "False\n"
     ]
    }
   ],
   "source": [
    "matkhau = input(\"Nhập mật khẩu:\")\n",
    "\n",
    "def kiemtramatkhau(s):\n",
    "    dem = 0\n",
    "    for i in s:\n",
    "        if i.isupper():\n",
    "            dem += 1\n",
    "            break\n",
    "    for i in s:\n",
    "        if i.islower():\n",
    "            dem += 1\n",
    "            break\n",
    "    for i in s:\n",
    "        if i.isdecimal():\n",
    "            dem += 1\n",
    "            break\n",
    "    for i in s:\n",
    "        if not (i.isalpha()) and not (i.isdecimal()):\n",
    "            dem += 1\n",
    "            break\n",
    "    if (dem == 4):\n",
    "        return True\n",
    "    else:\n",
    "        return False\n",
    "\n",
    "print(kiemtramatkhau(matkhau))\n"
   ]
  },
  {
   "cell_type": "markdown",
   "id": "b96c5219",
   "metadata": {},
   "source": [
    "### Bài 4\n",
    "\n",
    "Viết hàm có 5 dữ liệu đầu vào là 5 số nguyên, tìm giá trị lớn nhì trong 5 số đó"
   ]
  },
  {
   "cell_type": "code",
   "execution_count": 5,
   "id": "d9457955",
   "metadata": {},
   "outputs": [
    {
     "name": "stdout",
     "output_type": "stream",
     "text": [
      "12\n"
     ]
    }
   ],
   "source": [
    "def hoandoivitri(so1,so2):\n",
    "    z=so1\n",
    "    so1=so2\n",
    "    so2=z\n",
    "    return (so2,so1)\n",
    "    \n",
    "\n",
    "def timsolonnhi(a,b,c,d,e):\n",
    "    if (a < b):\n",
    "        a, b = hoandoivitri(a,b)\n",
    "    if (a < c):\n",
    "        a, c = hoandoivitri(a,c)\n",
    "    if (a < d):\n",
    "        a, d = hoandoivitri(a,d)\n",
    "    if (a < e):\n",
    "        a, e = hoandoivitri(a,e)\n",
    "        \n",
    "    if (b < c):\n",
    "        b, c = hoandoivitri(b,c)\n",
    "    if (b < d):\n",
    "        b, d = hoandoivitri(b,d)\n",
    "    if (b < e):\n",
    "        b, d = hoandoivitri(b,e)\n",
    "        \n",
    "    return(b)\n",
    "\n",
    "print(timsolonnhi(5,12,4,7,6))\n",
    "\n",
    "    \n",
    "\n"
   ]
  },
  {
   "cell_type": "markdown",
   "id": "2b696935",
   "metadata": {},
   "source": [
    "### Bài 5\n",
    "\n",
    "Nhập vào 2 cặp tọa độ tâm đường tròn và 2 bán kính R\n",
    "\n",
    "Hãy vẽ 2 hình tròn theo tọa độ và bán kính trên (tọa độ thứ nhất và bán kính thứ nhất là hình tròn thứ nhất, tọa độ thứ 2 với bán kính thứ 2 là hình tròn thứ hai)\n",
    "\n",
    "Viết hàm kiểm tra xem 2 hình tròn trên cắt nhau bao nhiêu điểm"
   ]
  },
  {
   "cell_type": "code",
   "execution_count": null,
   "id": "6304508f",
   "metadata": {},
   "outputs": [],
   "source": []
  },
  {
   "cell_type": "markdown",
   "id": "920f7353",
   "metadata": {},
   "source": [
    "### Bài 6\n",
    "\n",
    "Nhập vào 2 tọa độ là 2 đỉnh của một hình chữ nhật\n",
    "\n",
    "Sau đó\n",
    "\n",
    "Nhập vào tọa độ tâm đường tròn và bán kính R\n",
    "\n",
    "Hãy vẽ hình hình chữ nhật và đường tròn trên\n",
    "\n",
    "Viết hàm kiểm tra xem đường tròn trên và hình chữ nhật cắt nhau tại bao nhiêu điểm"
   ]
  },
  {
   "cell_type": "code",
   "execution_count": null,
   "id": "3948e86a",
   "metadata": {},
   "outputs": [],
   "source": []
  },
  {
   "cell_type": "markdown",
   "id": "cbd6874e",
   "metadata": {},
   "source": [
    "### Bài 7\n",
    "\n",
    "Viết hàm kiểm tra số nguyên tố\n",
    "\n",
    "Viết hàm kiểm tra số hoàn hảo\n",
    "\n",
    "Viết hàm kiểm tra số chính phương\n",
    "\n",
    "Viết hàm kiểm tra số Armstrong\n",
    "\n",
    "Nhập vào một chuỗi, hãy lọc và tìm ra những số ở trong chuỗi (2 chữ số liền nhau là một chuỗi)\n",
    "\n",
    "Ví dụ chuỗi: \"AB25SDc5DSjjh52\"\n",
    "\n",
    "Trong chuỗi này ta có 3 số: 25, 5 và 52\n",
    "\n",
    "Sau khi lọc số, dùng các hàm trên để kiểm tra và thực hiện như sau:\n",
    "\n",
    "Cho biến S\n",
    "\n",
    "- Nếu số đó là số nguyên tố, ta thực hiện S += số đó\n",
    "- Nếu số đó là số hoàn hảo, ta thực hiện S -= số đó\n",
    "- Nếu số đó là số chính phương, ta thực hiện S /= số đó\n",
    "- Nếu đó là số Armstrong ta cho S = 0\n",
    "\n",
    "Hãy tính và in S"
   ]
  },
  {
   "cell_type": "code",
   "execution_count": 3,
   "id": "650ba28c",
   "metadata": {},
   "outputs": [
    {
     "name": "stdout",
     "output_type": "stream",
     "text": [
      "nhap vao mot chuoiAB25SDc5DSjjh52\n",
      "255\n"
     ]
    }
   ],
   "source": [
    "def songuyento(a):\n",
    "    if a < 2:\n",
    "        return False\n",
    "    for i in range(2,a):\n",
    "        if a % 1 == 0:\n",
    "            return False\n",
    "        return True\n",
    "    \n",
    "#print(songuyento(9))\n",
    "def sohoanhao(a):\n",
    "    tong = 0\n",
    "    for i in range (1,a):\n",
    "        if a % i == 0:\n",
    "            tong = tong + i\n",
    "    if tong == a:\n",
    "        return True\n",
    "    else:\n",
    "        return False\n",
    "#print(sohoanhao(6))\n",
    "def sochinhphuong(a):\n",
    "    if a**(1/2)== int (a**(1/2)):\n",
    "        return True\n",
    "    else:\n",
    "        return False\n",
    "#print(sochinhphuong(9))\n",
    "def armstrong(a):\n",
    "    c = a\n",
    "    b = 0\n",
    "    while a != 0:\n",
    "        b = b + (a % 10)**3\n",
    "        a = a // 10\n",
    "    if b == c:\n",
    "        return True\n",
    "    else:\n",
    "        return False\n",
    "#print(armstrong(153))\n",
    "a = input(\"nhap vao mot chuoi\")\n",
    "a+=\"\"\n",
    "s = 0\n",
    "\n",
    "n = \"\"\n",
    "for i in range(len(a)-1):\n",
    "    if (a[i].isnumeric()):\n",
    "        n += a[i] \n",
    "    elif(n!=\"\"):\n",
    "        so = int(n) \n",
    "        if songuyento(so):\n",
    "            s+= so\n",
    "            print(\"songuyento\")\n",
    "        elif sohoanhao(so) : \n",
    "            s-= so\n",
    "            print(\"sohoanhao\")\n",
    "        elif sochinhphuong (so):\n",
    "            s /= so\n",
    "            print(\"sochinhphuong\")\n",
    "        elif armstrong(so):\n",
    "            s = 0\n",
    "            print(\"armstrong\")\n",
    "        n = \"\"\n",
    "        print(so,s)\n",
    "print(s)"
   ]
  }
 ],
 "metadata": {
  "kernelspec": {
   "display_name": "Python 3 (ipykernel)",
   "language": "python",
   "name": "python3"
  },
  "language_info": {
   "codemirror_mode": {
    "name": "ipython",
    "version": 3
   },
   "file_extension": ".py",
   "mimetype": "text/x-python",
   "name": "python",
   "nbconvert_exporter": "python",
   "pygments_lexer": "ipython3",
   "version": "3.9.7"
  }
 },
 "nbformat": 4,
 "nbformat_minor": 5
}
